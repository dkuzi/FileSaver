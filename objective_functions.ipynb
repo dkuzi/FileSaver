{
 "cells": [
  {
   "cell_type": "code",
   "execution_count": 1,
   "id": "1ed7a2d9-7e5f-4b83-b6e7-fa9c5eca70c7",
   "metadata": {},
   "outputs": [],
   "source": [
    "using LinearAlgebra\n",
    "\"\"\"\n",
    "creates and returns f and grad(f) for the L2-loss\n",
    "\n",
    "TODO: Look at 'call_oracle' and adjust accordingly! Maybe do 'L2Loss' as struct with constructor to construct it\n",
    "-> function takes data, labels, lmbda as input and creates struct with necessary values + functions.\n",
    "\n",
    "# Arguments\n",
    "- 'data::\n",
    "\"\"\"\n",
    "function construct_L2Loss(\n",
    "    data::Matrix{Float64},\n",
    "    labels::Matrix{Float64};\n",
    "    lmbda=0.0,\n",
    "    data_squared=nothing,\n",
    "    data_labels=nothing,\n",
    "    labels_squared=nothing,\n",
    "    data_squared_inverse=nothing)\n",
    "\n",
    "    A = data\n",
    "    m, n = size(A)\n",
    "    b = reshape(labels, m, 1) \n",
    "    lmbda = Float64(lmbda)\n",
    "\n",
    "    # A squared\n",
    "    if data_squared != nothing\n",
    "        A_squared = (2 / m) * data_squared\n",
    "    else\n",
    "        A_squared = (2 / m) * (A' * A)\n",
    "    end\n",
    "\n",
    "    if lmbda != 0.0\n",
    "        A_squared = A_squared + lmbda * Matrix(I, n, n)\n",
    "    end\n",
    "\n",
    "    @assert size(A_squared) == (n, n)\n",
    "\n",
    "    # A.Tb\n",
    "    if data_labels != nothing\n",
    "        A_b = (2 / m) * data_labels\n",
    "        A_b = reshape(A_b, n, 1)\n",
    "    else\n",
    "        A_b = (2 / m) * (A' * b)\n",
    "        A_b = reshape(A_b, n, 1)\n",
    "    end\n",
    "    \n",
    "    \n",
    "    # A_squared_inv\n",
    "    A_squared_inv = nothing\n",
    "    solution = nothing\n",
    "    if data_squared_inverse != nothing\n",
    "        A_squared_inverse = (m / 2) * data_squared_inverse\n",
    "        solution = data_squared_inverse * data_labels\n",
    "        @assert lmbda == 0. \"Regularization not implemented for hessian-based algorithms.\"\n",
    "    end\n",
    "\n",
    "    # b.Tb\n",
    "    if labels_squared != nothing\n",
    "        b_squared = (2 / m) * b_squared\n",
    "    else\n",
    "        b_squared = (2 / m) * (b' * b)\n",
    "    end\n",
    "    \n",
    "    \"\"\"\n",
    "    evaluates f at x\n",
    "    \"\"\"\n",
    "    function evaluate_function(x::Vector{Float64})\n",
    "        x = hcat(x)\n",
    "        return ((1 / 2) * (x' * A_squared * x) + (A_b' * x) + (1 / 2) * b_squared)[1]\n",
    "    end\n",
    "\n",
    "    \"\"\"\n",
    "    evaluates gradient of f at x\n",
    "    \"\"\"\n",
    "    function evaluate_gradient!(storage::Vector{Float64}, x::Vector{Float64})\n",
    "        x = hcat(x)\n",
    "        return storage .= A_squared * x + A_b\n",
    "    end\n",
    "\n",
    "    return L2Loss(A, A_squared, A_b, b_squared, A_squared_inv, solution), evaluate_function, evaluate_gradient!\n",
    "    \n",
    "end\n",
    "\n",
    "struct L2Loss\n",
    "    A\n",
    "    A_squared\n",
    "    A_b\n",
    "    b_squared\n",
    "    A_squared_inv\n",
    "    solution    \n",
    "end"
   ]
  },
  {
   "cell_type": "code",
   "execution_count": 14,
   "id": "5e9e1d34-6ec6-403c-8cc6-776027b5cb74",
   "metadata": {},
   "outputs": [
    {
     "data": {
      "text/plain": [
       "L2Loss"
      ]
     },
     "execution_count": 14,
     "metadata": {},
     "output_type": "execute_result"
    }
   ],
   "source": [
    "L2Loss"
   ]
  },
  {
   "cell_type": "code",
   "execution_count": 17,
   "id": "9d1b34be-e23d-45b6-b50d-1afc23763808",
   "metadata": {},
   "outputs": [
    {
     "ename": "LoadError",
     "evalue": "MethodError: no method matching L2Loss(::Int64, ::Int64, ::Int64, ::Int64, ::Int64, ::Int64)",
     "output_type": "error",
     "traceback": [
      "MethodError: no method matching L2Loss(::Int64, ::Int64, ::Int64, ::Int64, ::Int64, ::Int64)",
      "",
      "Stacktrace:",
      " [1] top-level scope",
      "   @ In[17]:1"
     ]
    }
   ],
   "source": [
    "c = L2Loss(1, 1, 1, 1, 1, 1)"
   ]
  },
  {
   "cell_type": "code",
   "execution_count": 3,
   "id": "bb8f29b0-d9e5-4ce4-8835-8f4256858bc6",
   "metadata": {},
   "outputs": [],
   "source": [
    "struct b\n",
    "    A\n",
    "    A_squared\n",
    "    A_b\n",
    "    b_squared\n",
    "    A_squared_inv\n",
    "    solution        \n",
    "end"
   ]
  },
  {
   "cell_type": "code",
   "execution_count": 5,
   "id": "33ec7c3e-7e81-4d40-938b-cd8f3951dec7",
   "metadata": {},
   "outputs": [
    {
     "data": {
      "text/plain": [
       "1"
      ]
     },
     "execution_count": 5,
     "metadata": {},
     "output_type": "execute_result"
    }
   ],
   "source": [
    "c = b(1, 1, 1, 1, 1, 1)\n",
    "c.A"
   ]
  },
  {
   "cell_type": "code",
   "execution_count": null,
   "id": "0e16797c-e644-4a1f-9cdb-28f8ad037666",
   "metadata": {},
   "outputs": [],
   "source": []
  }
 ],
 "metadata": {
  "kernelspec": {
   "display_name": "Julia 1.9.2",
   "language": "julia",
   "name": "julia-1.9"
  },
  "language_info": {
   "file_extension": ".jl",
   "mimetype": "application/julia",
   "name": "julia",
   "version": "1.9.2"
  }
 },
 "nbformat": 4,
 "nbformat_minor": 5
}

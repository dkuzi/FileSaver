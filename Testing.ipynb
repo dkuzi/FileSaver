{
 "cells": [
  {
   "cell_type": "code",
   "execution_count": 12,
   "id": "2118b25c",
   "metadata": {},
   "outputs": [],
   "source": [
    "using LinearAlgebra\n",
    "using FromFile\n",
    "using FrankWolfe\n",
    "include(\"auxiliary_functions.jl\");"
   ]
  },
  {
   "cell_type": "code",
   "execution_count": 11,
   "id": "9d18d477-c1aa-4f38-aca1-bf7a5ee94b55",
   "metadata": {},
   "outputs": [
    {
     "data": {
      "text/plain": [
       "2×3 Matrix{Float64}:\n",
       " 0.0  0.0  0.0\n",
       " 0.0  0.0  0.0"
      ]
     },
     "execution_count": 11,
     "metadata": {},
     "output_type": "execute_result"
    }
   ],
   "source": [
    "a = ones(Float64, 2, 3)"
   ]
  },
  {
   "cell_type": "code",
   "execution_count": 13,
   "id": "8a42b5f3-2d77-4596-a6e5-469e69f0baac",
   "metadata": {},
   "outputs": [
    {
     "data": {
      "text/plain": [
       "3×3 Matrix{Float64}:\n",
       " 0.0  0.0  0.0\n",
       " 0.0  0.0  0.0\n",
       " 0.0  0.0  0.0"
      ]
     },
     "execution_count": 13,
     "metadata": {},
     "output_type": "execute_result"
    }
   ],
   "source": [
    "a = vcat(a, zeros(Float64, 1, size(a, 2)))"
   ]
  },
  {
   "cell_type": "code",
   "execution_count": 16,
   "id": "671df3fb-9836-4f7c-bdef-de7c5a83275d",
   "metadata": {},
   "outputs": [
    {
     "data": {
      "text/plain": [
       "3×1 Matrix{Float64}:\n",
       " 0.0\n",
       " 0.0\n",
       " 0.0"
      ]
     },
     "execution_count": 16,
     "metadata": {},
     "output_type": "execute_result"
    }
   ],
   "source": [
    "a * ones(Float64, 3, 1)"
   ]
  },
  {
   "cell_type": "code",
   "execution_count": 138,
   "id": "0d57827d-b7de-4c2e-8703-5c3b4050708f",
   "metadata": {},
   "outputs": [
    {
     "data": {
      "text/plain": [
       "L2Loss"
      ]
     },
     "execution_count": 138,
     "metadata": {},
     "output_type": "execute_result"
    }
   ],
   "source": [
    "function L2Loss(\n",
    "    data,\n",
    "    labels;\n",
    "    lmbda=0.0,\n",
    "    data_squared=nothing,\n",
    "    labels_squared=nothing,\n",
    "    data_squared_inverse=nothing,\n",
    "    data_labels=nothing)\n",
    "\n",
    "    A = data\n",
    "    m, n = size(A)\n",
    "    b = reshape(labels, m, 1)  # reshape into column vector\n",
    "    lmbda = Float64(lmbda)\n",
    "\n",
    "    # A squared\n",
    "    if data_squared != nothing\n",
    "        A_squared = (2 / m) * data_squared\n",
    "    else\n",
    "        A_squared = (2 / m) * (A' * A)\n",
    "    end\n",
    "\n",
    "    if lmbda != 0.0\n",
    "        A_squared = A_squared + lmbda * Matrix(I, n, n)\n",
    "    end\n",
    "\n",
    "    @assert size(A_squared) == (n, n)\n",
    "\n",
    "    # A.Tb\n",
    "    if data_labels != nothing\n",
    "        A_b = (2 / m) * data_labels\n",
    "        A_b = reshape(A_b, n, 1)\n",
    "    else\n",
    "        A_b = (2 / m) * (A' * b)\n",
    "        A_b = reshape(A_b, n, 1)\n",
    "    end\n",
    "    \n",
    "    \n",
    "    # A_squared_inv\n",
    "    A_squared_inv = nothing\n",
    "    solution = nothing\n",
    "    if data_squared_inverse != nothing\n",
    "        A_squared_inverse = (m / 2) * data_squared_inverse\n",
    "        solution = data_squared_inverse * data_labels\n",
    "        @assert lmbda == 0. \"Regularization not implemented for hessian-based algorithms.\"\n",
    "    end\n",
    "\n",
    "    # b.Tb\n",
    "    if labels_squared != nothing\n",
    "        b_squared = (2 / m) * b_squared\n",
    "    else\n",
    "        b_squared = (2 / m) * (b' * b)\n",
    "    end\n",
    "    \n",
    "    \"\"\"\n",
    "    evaluates f at x\n",
    "    \"\"\"\n",
    "    function evaluate_function(x::Vector{Float64})\n",
    "        # make x column vector\n",
    "        x = hcat(x)\n",
    "\n",
    "        # return value instead of 1x1 Matrix\n",
    "        return ((1 / 2) * (x' * A_squared * x) + (A_b' * x) + (1 / 2) * b_squared)[1]\n",
    "    end\n",
    "\n",
    "    \"\"\"\n",
    "    evaluates gradient of f at x\n",
    "    \"\"\"\n",
    "    function evaluate_gradient!(storage::Vector{Float64}, x::Vector{Float64})\n",
    "        # make x column vector\n",
    "        x = hcat(x)\n",
    "        return storage .= A_squared * x + A_b\n",
    "    end\n",
    "\n",
    "    return evaluate_function, evaluate_gradient!\n",
    "    \n",
    "end\n",
    "    "
   ]
  },
  {
   "cell_type": "code",
   "execution_count": 122,
   "id": "f8db8ca3-61e0-48a2-8b4b-3f0ba630f20c",
   "metadata": {},
   "outputs": [
    {
     "data": {
      "text/plain": [
       "3×1 Matrix{Float64}:\n",
       " 1.0\n",
       " 1.0\n",
       " 1.0"
      ]
     },
     "execution_count": 122,
     "metadata": {},
     "output_type": "execute_result"
    }
   ],
   "source": [
    "A = Matrix(I, 3, 3)\n",
    "b = ones(3, 1)"
   ]
  },
  {
   "cell_type": "code",
   "execution_count": 139,
   "id": "2036f67c-cae8-4dde-8e4a-ed116840ef11",
   "metadata": {},
   "outputs": [
    {
     "data": {
      "text/plain": [
       "(var\"#evaluate_function#67\"(Core.Box([2.0;;]), Core.Box([0.6666666666666666; 0.6666666666666666; 0.6666666666666666;;]), Core.Box([0.6666666666666666 0.0 0.0; 0.0 0.6666666666666666 0.0; 0.0 0.0 0.6666666666666666])), var\"#evaluate_gradient!#68\"(Core.Box([0.6666666666666666; 0.6666666666666666; 0.6666666666666666;;]), Core.Box([0.6666666666666666 0.0 0.0; 0.0 0.6666666666666666 0.0; 0.0 0.0 0.6666666666666666])))"
      ]
     },
     "execution_count": 139,
     "metadata": {},
     "output_type": "execute_result"
    }
   ],
   "source": [
    "f, grad! = L2Loss(A, b)\n"
   ]
  },
  {
   "cell_type": "code",
   "execution_count": 124,
   "id": "eb736ae9-5666-4988-9e0b-8b02f9a64d10",
   "metadata": {},
   "outputs": [
    {
     "data": {
      "text/plain": [
       "1×1 Matrix{Int64}:\n",
       " 1"
      ]
     },
     "execution_count": 124,
     "metadata": {},
     "output_type": "execute_result"
    }
   ],
   "source": [
    "a = Matrix(I, 3, 1)\n",
    "b = ones(Int64, 3, 1)\n",
    "a' * b"
   ]
  },
  {
   "cell_type": "code",
   "execution_count": 125,
   "id": "a58a0ca9-2fbb-46fb-a5b9-8de243740642",
   "metadata": {},
   "outputs": [
    {
     "data": {
      "text/plain": [
       "3×1 Matrix{Int64}:\n",
       " 1\n",
       " 2\n",
       " 3"
      ]
     },
     "execution_count": 125,
     "metadata": {},
     "output_type": "execute_result"
    }
   ],
   "source": [
    "hcat(hcat([1, 2, 3]))"
   ]
  },
  {
   "cell_type": "code",
   "execution_count": 126,
   "id": "94892976-7568-4bb4-905a-afa0c7325be4",
   "metadata": {},
   "outputs": [
    {
     "data": {
      "text/plain": [
       "3-element Vector{Float64}:\n",
       " 1.3333333333333333\n",
       " 2.0\n",
       " 2.6666666666666665"
      ]
     },
     "execution_count": 126,
     "metadata": {},
     "output_type": "execute_result"
    }
   ],
   "source": [
    "grad!(Vector(x[:, 1]), x)"
   ]
  },
  {
   "cell_type": "code",
   "execution_count": 146,
   "id": "b4bf97ce-7d50-424d-923c-2ff8a1adc3ed",
   "metadata": {},
   "outputs": [
    {
     "data": {
      "text/plain": [
       "3-element Vector{Float64}:\n",
       " 1.0\n",
       " 0.0\n",
       " 0.0"
      ]
     },
     "execution_count": 146,
     "metadata": {},
     "output_type": "execute_result"
    }
   ],
   "source": [
    "lmo = FrankWolfe.ProbabilitySimplexOracle(1.)\n",
    "x0 = [1., 0, 0]"
   ]
  },
  {
   "cell_type": "code",
   "execution_count": 147,
   "id": "3388d44c-0529-4fda-8bc7-efae9bd6603d",
   "metadata": {},
   "outputs": [
    {
     "data": {
      "text/plain": [
       "([0.33333328648682414, 0.333333304241379, 0.33333340927179683], [1.0, 0.0, 0.0], 1.7777777777777808, 3.123101188773347e-8, Any[])"
      ]
     },
     "execution_count": 147,
     "metadata": {},
     "output_type": "execute_result"
    }
   ],
   "source": [
    "frank_wolfe(f, grad!, lmo, x0)"
   ]
  },
  {
   "cell_type": "code",
   "execution_count": 2,
   "id": "ef6476e4-2661-4e91-8d82-e79a057030c6",
   "metadata": {},
   "outputs": [
    {
     "data": {
      "text/plain": [
       "3×1 Matrix{Int64}:\n",
       " 1\n",
       " 0\n",
       " 0"
      ]
     },
     "execution_count": 2,
     "metadata": {},
     "output_type": "execute_result"
    }
   ],
   "source": [
    "using LinearAlgebra\n",
    "a = 1 * Matrix(I, 3, 1)"
   ]
  },
  {
   "cell_type": "code",
   "execution_count": 3,
   "id": "0dc0a80e-14cf-4d88-a1de-57781f43b1f9",
   "metadata": {},
   "outputs": [
    {
     "data": {
      "text/plain": [
       "3×1 Matrix{Int64}:\n",
       " 2\n",
       " 0\n",
       " 0"
      ]
     },
     "execution_count": 3,
     "metadata": {},
     "output_type": "execute_result"
    }
   ],
   "source": [
    "b = 2*copy(a)"
   ]
  },
  {
   "cell_type": "code",
   "execution_count": 4,
   "id": "f8ceb9e7-e00d-4f1f-80c5-e9c6ae81cad0",
   "metadata": {},
   "outputs": [
    {
     "data": {
      "text/plain": [
       "3×1 Matrix{Int64}:\n",
       " 3\n",
       " 0\n",
       " 0"
      ]
     },
     "execution_count": 4,
     "metadata": {},
     "output_type": "execute_result"
    }
   ],
   "source": [
    "a + b"
   ]
  },
  {
   "cell_type": "code",
   "execution_count": 5,
   "id": "1d9bc82e-b176-44a6-a14b-d225585d9141",
   "metadata": {},
   "outputs": [
    {
     "data": {
      "text/plain": [
       "3×1 Matrix{Int64}:\n",
       " 3\n",
       " 0\n",
       " 0"
      ]
     },
     "execution_count": 5,
     "metadata": {},
     "output_type": "execute_result"
    }
   ],
   "source": [
    "a .+ b"
   ]
  },
  {
   "cell_type": "code",
   "execution_count": null,
   "id": "ba6ea565-2fab-4605-a80f-522cddb71946",
   "metadata": {},
   "outputs": [],
   "source": []
  }
 ],
 "metadata": {
  "kernelspec": {
   "display_name": "Julia 1.9.2",
   "language": "julia",
   "name": "julia-1.9"
  },
  "language_info": {
   "file_extension": ".jl",
   "mimetype": "application/julia",
   "name": "julia",
   "version": "1.9.2"
  }
 },
 "nbformat": 4,
 "nbformat_minor": 5
}

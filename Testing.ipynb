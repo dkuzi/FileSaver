{
 "cells": [
  {
   "cell_type": "code",
   "execution_count": 2,
   "id": "6ce4452c",
   "metadata": {},
   "outputs": [],
   "source": [
    "using LinearAlgebra\n",
    "using Random\n",
    "using FrankWolfe\n",
    "include(\"auxiliary_functions.jl\")\n",
    "include(\"terms_and_polynomials.jl\")\n",
    "include(\"objective_functions.jl\")\n",
    "include(\"oracle_avi.jl\");"
   ]
  },
  {
   "cell_type": "code",
   "execution_count": 16,
   "id": "8a52e65a",
   "metadata": {},
   "outputs": [
    {
     "data": {
      "text/plain": [
       "abm (generic function with 1 method)"
      ]
     },
     "execution_count": 16,
     "metadata": {},
     "output_type": "execute_result"
    }
   ],
   "source": [
    "function abm(Data)\n",
    "    data_with_labels = hcat(Data.A, Data.b)\n",
    "    m = size(data_with_labels, 1)\n",
    "    if size(data_with_labels, 1) > size(data_with_labels, 2)\n",
    "        data_with_labels_squared = hcat(Data.A_squared, Data.A_b)\n",
    "        bottom_row = vcat(Data.A_b, Data.b_squared)\n",
    "        bottom_row = bottom_row'\n",
    "        # (m/2) factor due to way L2 data is saved \n",
    "        data_with_labels_squared = (m / 2) * vcat(data_with_labels_squared, bottom_row)\n",
    "        \n",
    "        F = svd(data_with_labels_squared)\n",
    "    else\n",
    "        F = svd(data_with_labels)\n",
    "    end\n",
    "    \n",
    "    U, S, Vt = F.U, F.S, F.Vt\n",
    "    coefficient_vector = Vt[:, end]\n",
    "    loss = (1 / size(Data.A, 1)) * norm(data_with_labels * coefficient_vector, 2)^2\n",
    "    \n",
    "    return coefficient_vector, loss\n",
    "end        "
   ]
  },
  {
   "cell_type": "code",
   "execution_count": 17,
   "id": "6b0ebc35",
   "metadata": {},
   "outputs": [
    {
     "data": {
      "text/plain": [
       "([-0.3373242244187917, -0.577006638737177, 0.07760056070492272, 0.739766084280543], 0.09119733572975218)"
      ]
     },
     "execution_count": 17,
     "metadata": {},
     "output_type": "execute_result"
    }
   ],
   "source": [
    "data = rand(5, 3)\n",
    "labels = rand(5)\n",
    "L2, _ = construct_L2Loss(data, labels)\n",
    "abm(L2)"
   ]
  },
  {
   "cell_type": "code",
   "execution_count": 4,
   "id": "13deceff",
   "metadata": {},
   "outputs": [
    {
     "data": {
      "text/plain": [
       "4-element Vector{Int64}:\n",
       " 1\n",
       " 1\n",
       " 1\n",
       " 1"
      ]
     },
     "execution_count": 4,
     "metadata": {},
     "output_type": "execute_result"
    }
   ],
   "source": [
    "a = randn(3, 4)\n",
    "b = ones(Int64, 4)"
   ]
  },
  {
   "cell_type": "code",
   "execution_count": 7,
   "id": "c86a27b2",
   "metadata": {},
   "outputs": [
    {
     "data": {
      "text/plain": [
       "4×3 Matrix{Float64}:\n",
       " -0.380353   1.01309    1.0\n",
       "  0.793804   1.16646    1.0\n",
       "  0.211649   1.24327    1.0\n",
       "  0.13102   -0.0713635  1.0"
      ]
     },
     "execution_count": 7,
     "metadata": {},
     "output_type": "execute_result"
    }
   ],
   "source": [
    "r = randn(4, 2)\n",
    "hcat(r, b)"
   ]
  },
  {
   "cell_type": "code",
   "execution_count": 12,
   "id": "4e0830e8",
   "metadata": {},
   "outputs": [
    {
     "data": {
      "text/plain": [
       "SVD{Float64, Float64, Matrix{Float64}, Vector{Float64}}\n",
       "U factor:\n",
       "5×4 Matrix{Float64}:\n",
       "  0.477206   -0.171469   0.515172   -0.50062\n",
       " -0.845353   -0.200028   0.0569193  -0.36866\n",
       " -0.211797    0.489445   0.709175   -0.0729521\n",
       "  0.0919446  -0.358993  -0.208805   -0.626054\n",
       "  0.0658894   0.74977   -0.429919   -0.464977\n",
       "singular values:\n",
       "4-element Vector{Float64}:\n",
       " 3.5272170206378526\n",
       " 1.4917590367054454\n",
       " 1.2625715736577416\n",
       " 0.517081481618711\n",
       "Vt factor:\n",
       "4×4 Matrix{Float64}:\n",
       " -0.161915  -0.748572   0.0517593  -0.640894\n",
       "  0.2419     0.599054  -0.0254448  -0.762871\n",
       "  0.732871  -0.25057   -0.630006    0.0566367\n",
       "  0.614954  -0.134125   0.774446    0.0638426"
      ]
     },
     "execution_count": 12,
     "metadata": {},
     "output_type": "execute_result"
    }
   ],
   "source": [
    "a = randn(5, 4)\n",
    "U, S, Vt = svd(a)"
   ]
  },
  {
   "cell_type": "code",
   "execution_count": 13,
   "id": "ba4df259",
   "metadata": {},
   "outputs": [
    {
     "data": {
      "text/plain": [
       "false"
      ]
     },
     "execution_count": 13,
     "metadata": {},
     "output_type": "execute_result"
    }
   ],
   "source": [
    "a ≈ U * Diagonal(S) * Vt"
   ]
  },
  {
   "cell_type": "code",
   "execution_count": null,
   "id": "22e93093",
   "metadata": {},
   "outputs": [],
   "source": []
  }
 ],
 "metadata": {
  "kernelspec": {
   "display_name": "Julia 1.9.2",
   "language": "julia",
   "name": "julia-1.9"
  },
  "language_info": {
   "file_extension": ".jl",
   "mimetype": "application/julia",
   "name": "julia",
   "version": "1.9.2"
  }
 },
 "nbformat": 4,
 "nbformat_minor": 5
}

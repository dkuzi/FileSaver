{
 "cells": [
  {
   "cell_type": "code",
   "execution_count": 1,
   "id": "2118b25c",
   "metadata": {},
   "outputs": [],
   "source": [
    "using LinearAlgebra"
   ]
  },
  {
   "cell_type": "code",
   "execution_count": null,
   "id": "75ff91fa",
   "metadata": {},
   "outputs": [],
   "source": [
    "A = ones(1)"
   ]
  },
  {
   "cell_type": "code",
   "execution_count": null,
   "id": "9df0644e",
   "metadata": {},
   "outputs": [],
   "source": [
    "b = vcat(A, [2])"
   ]
  },
  {
   "cell_type": "code",
   "execution_count": 7,
   "id": "f647b6c0",
   "metadata": {},
   "outputs": [],
   "source": [
    "include(\"terms_and_polynomials.jl\");"
   ]
  },
  {
   "cell_type": "code",
   "execution_count": 10,
   "id": "7d2c6a94",
   "metadata": {},
   "outputs": [
    {
     "data": {
      "text/plain": [
       "SetsOandG(1, 1, 1, 1, 1, 1, 1, 1, 1, 1, 1)"
      ]
     },
     "execution_count": 10,
     "metadata": {},
     "output_type": "execute_result"
    }
   ],
   "source": [
    "a = SetsOandG(1, 1, 1, 1, 1, 1, 1, 1, 1, 1, 1)"
   ]
  },
  {
   "cell_type": "code",
   "execution_count": null,
   "id": "e1122632",
   "metadata": {},
   "outputs": [],
   "source": [
    "hcat(1, 1)"
   ]
  },
  {
   "cell_type": "code",
   "execution_count": 11,
   "id": "92722cfd",
   "metadata": {},
   "outputs": [
    {
     "data": {
      "text/plain": [
       "1×2 Matrix{Int64}:\n",
       " 1  2"
      ]
     },
     "execution_count": 11,
     "metadata": {},
     "output_type": "execute_result"
    }
   ],
   "source": [
    "update_O(a, 2, 2, 2)"
   ]
  },
  {
   "cell_type": "code",
   "execution_count": 12,
   "id": "4003343c",
   "metadata": {},
   "outputs": [
    {
     "data": {
      "text/plain": [
       "1×2 Matrix{Int64}:\n",
       " 1  2"
      ]
     },
     "execution_count": 12,
     "metadata": {},
     "output_type": "execute_result"
    }
   ],
   "source": [
    "a.O_terms"
   ]
  },
  {
   "cell_type": "code",
   "execution_count": 13,
   "id": "65412660",
   "metadata": {},
   "outputs": [
    {
     "data": {
      "text/plain": [
       "1×1 Matrix{Float64}:\n",
       " 1.0"
      ]
     },
     "execution_count": 13,
     "metadata": {},
     "output_type": "execute_result"
    }
   ],
   "source": [
    "b = ones(1, 1)"
   ]
  },
  {
   "cell_type": "code",
   "execution_count": 15,
   "id": "7ea65423",
   "metadata": {},
   "outputs": [
    {
     "data": {
      "text/plain": [
       "1×1 Matrix{Float64}:\n",
       " 3.0"
      ]
     },
     "execution_count": 15,
     "metadata": {},
     "output_type": "execute_result"
    }
   ],
   "source": [
    "b .+ 2"
   ]
  },
  {
   "cell_type": "code",
   "execution_count": null,
   "id": "595294ea",
   "metadata": {},
   "outputs": [],
   "source": []
  }
 ],
 "metadata": {
  "kernelspec": {
   "display_name": "Julia 1.9.2",
   "language": "julia",
   "name": "julia-1.9"
  },
  "language_info": {
   "file_extension": ".jl",
   "mimetype": "application/julia",
   "name": "julia",
   "version": "1.9.2"
  }
 },
 "nbformat": 4,
 "nbformat_minor": 5
}

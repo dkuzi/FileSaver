{
 "cells": [
  {
   "cell_type": "code",
   "execution_count": 36,
   "id": "6ce4452c",
   "metadata": {},
   "outputs": [
    {
     "data": {
      "text/plain": [
       "L2Loss"
      ]
     },
     "execution_count": 36,
     "metadata": {},
     "output_type": "execute_result"
    }
   ],
   "source": [
    "using LinearAlgebra\n",
    "using Random\n",
    "using Test\n",
    "using FrankWolfe\n",
    "include(\"objective_functions.jl\");"
   ]
  },
  {
   "cell_type": "code",
   "execution_count": 3,
   "id": "29aa6d6a",
   "metadata": {},
   "outputs": [],
   "source": [
    "_, f, grad! = L2Loss"
   ]
  },
  {
   "cell_type": "code",
   "execution_count": 45,
   "id": "827bd939",
   "metadata": {},
   "outputs": [
    {
     "name": "stdout",
     "output_type": "stream",
     "text": [
      "\u001b[0m\u001b[1mTest Summary:                                   | \u001b[22m\u001b[32m\u001b[1mPass  \u001b[22m\u001b[39m\u001b[36m\u001b[1mTotal  \u001b[22m\u001b[39m\u001b[0m\u001b[1mTime\u001b[22m\n",
      "Testing suite for 'evaluate_function' in L2Loss | \u001b[32m  50  \u001b[39m\u001b[36m   50  \u001b[39m\u001b[0m0.0s\n"
     ]
    }
   ],
   "source": [
    "@testset \"Testing suite for 'evaluate_function' in L2Loss\" begin\n",
    "    for m in 1:5\n",
    "        for n in 1:10\n",
    "            A = rand(m, n)\n",
    "            b = rand(m)\n",
    "            x = rand(n)\n",
    "            lambda = rand() * n\n",
    "            _, evaluate_function, _ = L2Loss(A, b, lambda, A' * A, A' * b, b' * b)\n",
    "            \n",
    "            @test 1/m * norm(A * x + b, 2)^2 + lambda * norm(x, 2)^2 / 2 ≈ evaluate_function(x)\n",
    "        end\n",
    "    end\n",
    "end;"
   ]
  },
  {
   "cell_type": "code",
   "execution_count": 56,
   "id": "647d52ea",
   "metadata": {},
   "outputs": [
    {
     "name": "stdout",
     "output_type": "stream",
     "text": [
      "\u001b[0m\u001b[1mTest Summary:                                 | \u001b[22m\u001b[32m\u001b[1mPass  \u001b[22m\u001b[39m\u001b[36m\u001b[1mTotal  \u001b[22m\u001b[39m\u001b[0m\u001b[1mTime\u001b[22m\n",
      "Test suite for 'evaluate_gradient!' in L2Loss | \u001b[32m  50  \u001b[39m\u001b[36m   50  \u001b[39m\u001b[0m0.0s\n"
     ]
    }
   ],
   "source": [
    "@testset \"Test suite for 'evaluate_gradient!' in L2Loss\" begin\n",
    "    for m in 1:5\n",
    "        for n in 1:10\n",
    "            A = rand(m, n)\n",
    "            b = rand(m)\n",
    "            x = rand(n)\n",
    "            lambda = rand() * n\n",
    "            _, _, evaluate_gradient! = L2Loss(A, b, lambda, A' * A, A' * b, b' * b)\n",
    "            \n",
    "            gradient = 2/m * (A' * A * x + A' * b + m/2 * lambda * x)\n",
    "            approx_vec = (gradient .≈ evaluate_gradient!(zeros(n), x))\n",
    "            @test all(approx_vec)\n",
    "        end\n",
    "    end\n",
    "end;"
   ]
  },
  {
   "cell_type": "code",
   "execution_count": 48,
   "id": "909e448c",
   "metadata": {},
   "outputs": [],
   "source": [
    "m, n = 3, 5\n",
    "A = rand(m, n)\n",
    "            b = rand(m)\n",
    "            x = rand(n)\n",
    "            lambda = rand() * n\n",
    "            _, _, evaluate_gradient! = L2Loss(A, b, lambda, A' * A, A' * b, b' * b);"
   ]
  },
  {
   "cell_type": "code",
   "execution_count": 49,
   "id": "da07d306",
   "metadata": {},
   "outputs": [
    {
     "data": {
      "text/plain": [
       "5-element Vector{Float64}:\n",
       " 3.0463437581816537\n",
       " 2.28142905366565\n",
       " 2.443220094547383\n",
       " 1.3870524997000662\n",
       " 1.3128764703361313"
      ]
     },
     "execution_count": 49,
     "metadata": {},
     "output_type": "execute_result"
    }
   ],
   "source": [
    "evaluate_gradient!(zeros(n), x)"
   ]
  },
  {
   "cell_type": "code",
   "execution_count": 55,
   "id": "01ed3e17",
   "metadata": {},
   "outputs": [
    {
     "data": {
      "text/plain": [
       "true"
      ]
     },
     "execution_count": 55,
     "metadata": {},
     "output_type": "execute_result"
    }
   ],
   "source": [
    "all([true, true])"
   ]
  },
  {
   "cell_type": "code",
   "execution_count": null,
   "id": "a4c04be3",
   "metadata": {},
   "outputs": [],
   "source": []
  }
 ],
 "metadata": {
  "kernelspec": {
   "display_name": "Julia 1.9.2",
   "language": "julia",
   "name": "julia-1.9"
  },
  "language_info": {
   "file_extension": ".jl",
   "mimetype": "application/julia",
   "name": "julia",
   "version": "1.9.2"
  }
 },
 "nbformat": 4,
 "nbformat_minor": 5
}

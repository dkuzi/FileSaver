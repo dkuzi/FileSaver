{
 "cells": [
  {
   "cell_type": "code",
   "execution_count": 1,
   "id": "6ce4452c",
   "metadata": {},
   "outputs": [],
   "source": [
    "using LinearAlgebra\n",
    "using Random"
   ]
  },
  {
   "cell_type": "code",
   "execution_count": 3,
   "id": "265e7b3e",
   "metadata": {},
   "outputs": [],
   "source": [
    "using Test\n",
    "using FrankWolfe"
   ]
  },
  {
   "cell_type": "code",
   "execution_count": 4,
   "id": "63caa22a",
   "metadata": {},
   "outputs": [
    {
     "data": {
      "text/plain": [
       "abm (generic function with 1 method)"
      ]
     },
     "execution_count": 4,
     "metadata": {},
     "output_type": "execute_result"
    }
   ],
   "source": [
    "\"\"\"\n",
    "Runs ABM algorithm to find coefficient vector and computes loss.\n",
    "\n",
    "# Arguments\n",
    "- 'oracle_type::String': string denoting which oracle to construct\n",
    "- 'data::Union{Matrix{Float64}, Matrix{Int64}}': data (O_evaluations)\n",
    "- 'labels::Union{Matrix{Float64}, Matrix{Int64}, Vector{Float64}, Vector{Int64}}': labels (term_evaluated)\n",
    "- 'lambda::Union{Float64, Int64}': regularization parameter (if applicable)\n",
    "- 'data_squared::Union{Matrix{Float64}, Matrix{Int64}}': squared data \n",
    "- 'data_labels::Union{Matrix{Float64}, Vector{Float64}}': data' * labels \n",
    "- 'labels_squared::Float64': labels' * labels\n",
    "- 'data_squared_inverse::Union{Matrix{Float64}, Matrix{Int64}, Nothing}': inverse of data_squared (default is nothing)\n",
    "\n",
    "# Returns\n",
    "- 'coefficient_vector::Vector{Float64}': coefficient vector minimizing ABM optimization problem\n",
    "- 'loss::Float64': loss using 'coefficient_vector' \n",
    "\"\"\"\n",
    "function abm(data::Union{Matrix{Float64}, Matrix{Int64}}, \n",
    "        labels::Union{Matrix{Float64}, Matrix{Int64}, Vector{Float64}, Vector{Int64}},\n",
    "        data_squared::Union{Matrix{Float64}, Matrix{Int64}}, \n",
    "        data_labels::Union{Matrix{Float64}, Vector{Float64}},\n",
    "        labels_squared::Float64;\n",
    "        data_squared_inverse::Union{Matrix{Float64}, Matrix{Int64}, Nothing}=nothing)\n",
    "    data_with_labels = hcat(data, labels)\n",
    "    m = size(data_with_labels, 1)\n",
    "    \n",
    "    if size(data_with_labels, 1) > size(data_with_labels, 2)\n",
    "        data_squared_with_labels = hcat(data_squared, data_labels)\n",
    "        bottom_row = vcat(data_labels, labels_squared)\n",
    "        bottom_row = bottom_row'\n",
    "        data_squared_with_labels = vcat(data_squared_with_labels, bottom_row)\n",
    "        F = svd(data_squared_with_labels)\n",
    "    else\n",
    "        F = svd(data_with_labels)\n",
    "    end\n",
    "    \n",
    "    U, S, Vt = F.U, F.S, F.Vt\n",
    "    coefficient_vector = Vt[:, end]\n",
    "    loss = 1/size(data, 1) * norm(data_with_labels * coefficient_vector, 2)^2\n",
    "    \n",
    "    return coefficient_vector, loss\n",
    "end"
   ]
  },
  {
   "cell_type": "code",
   "execution_count": 5,
   "id": "d5995f4e",
   "metadata": {},
   "outputs": [
    {
     "data": {
      "text/plain": [
       "abm (generic function with 1 method)"
      ]
     },
     "execution_count": 5,
     "metadata": {},
     "output_type": "execute_result"
    }
   ],
   "source": [
    "include(\"oracle_constructors.jl\")"
   ]
  },
  {
   "cell_type": "code",
   "execution_count": 7,
   "id": "bbe90482",
   "metadata": {},
   "outputs": [
    {
     "data": {
      "text/plain": [
       "ConditionalGradients([1.0], 2, 3, FrankWolfe.frank_wolfe)"
      ]
     },
     "execution_count": 7,
     "metadata": {},
     "output_type": "execute_result"
    }
   ],
   "source": [
    "a = ConditionalGradients([1], 2, 3, frank_wolfe)"
   ]
  },
  {
   "cell_type": "code",
   "execution_count": 34,
   "id": "357c429e",
   "metadata": {},
   "outputs": [],
   "source": [
    "# implement this ↑ for generic constructors\n",
    "# also make it so constructors create struct with all necessary information to excavate from"
   ]
  },
  {
   "cell_type": "code",
   "execution_count": 34,
   "id": "41bbe6ed",
   "metadata": {},
   "outputs": [
    {
     "data": {
      "text/plain": [
       "2-element Vector{Tuple{Symbol, Real}}:\n",
       " (:epsilon, 0.1)\n",
       " (:max_iteration, 10)"
      ]
     },
     "execution_count": 34,
     "metadata": {},
     "output_type": "execute_result"
    }
   ],
   "source": [
    "kwargs = [(:epsilon, 0.1), (:max_iteration, 10)]"
   ]
  },
  {
   "cell_type": "code",
   "execution_count": 35,
   "id": "400d197a",
   "metadata": {},
   "outputs": [
    {
     "data": {
      "text/plain": [
       "foo1 (generic function with 5 methods)"
      ]
     },
     "execution_count": 35,
     "metadata": {},
     "output_type": "execute_result"
    }
   ],
   "source": [
    "function foo1(;epsilon::T=1, max_iteration::S=2) where {T<:Real, S<:Real}  \n",
    "    return epsilon * max_iteration\n",
    "end"
   ]
  },
  {
   "cell_type": "code",
   "execution_count": 36,
   "id": "8f49de1f",
   "metadata": {},
   "outputs": [
    {
     "data": {
      "text/plain": [
       "1.0"
      ]
     },
     "execution_count": 36,
     "metadata": {},
     "output_type": "execute_result"
    }
   ],
   "source": [
    "foo1(;kwargs...)"
   ]
  },
  {
   "cell_type": "code",
   "execution_count": 41,
   "id": "0a799b95",
   "metadata": {},
   "outputs": [
    {
     "data": {
      "text/plain": [
       "Foo (generic function with 1 method)"
      ]
     },
     "execution_count": 41,
     "metadata": {},
     "output_type": "execute_result"
    }
   ],
   "source": [
    "Foo(x, y; a=1, b=2) = x + y + a + b"
   ]
  },
  {
   "cell_type": "code",
   "execution_count": 42,
   "id": "8c9e411c",
   "metadata": {},
   "outputs": [
    {
     "data": {
      "text/plain": [
       "2-element Vector{Tuple{Symbol, Int64}}:\n",
       " (:a, 3)\n",
       " (:b, 4)"
      ]
     },
     "execution_count": 42,
     "metadata": {},
     "output_type": "execute_result"
    }
   ],
   "source": [
    "varargs = [1, 2]\n",
    "kwargs = [(:a, 3), (:b, 4)]"
   ]
  },
  {
   "cell_type": "code",
   "execution_count": 45,
   "id": "08d01bb3",
   "metadata": {},
   "outputs": [
    {
     "data": {
      "text/plain": [
       "10"
      ]
     },
     "execution_count": 45,
     "metadata": {},
     "output_type": "execute_result"
    }
   ],
   "source": [
    "Foo(varargs...; kwargs...)"
   ]
  },
  {
   "cell_type": "code",
   "execution_count": null,
   "id": "b88b00af",
   "metadata": {},
   "outputs": [],
   "source": []
  }
 ],
 "metadata": {
  "kernelspec": {
   "display_name": "Julia 1.9.2",
   "language": "julia",
   "name": "julia-1.9"
  },
  "language_info": {
   "file_extension": ".jl",
   "mimetype": "application/julia",
   "name": "julia",
   "version": "1.9.2"
  }
 },
 "nbformat": 4,
 "nbformat_minor": 5
}

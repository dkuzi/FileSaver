{
 "cells": [
  {
   "cell_type": "code",
   "execution_count": 8,
   "id": "2118b25c",
   "metadata": {},
   "outputs": [],
   "source": [
    "using LinearAlgebra\n",
    "include(\"terms_and_polynomials.jl\")\n",
    "include(\"auxiliary_functions.jl\");"
   ]
  },
  {
   "cell_type": "code",
   "execution_count": null,
   "id": "0bae11b5-e0cb-4a64-8915-86a728160ef0",
   "metadata": {},
   "outputs": [],
   "source": []
  }
 ],
 "metadata": {
  "kernelspec": {
   "display_name": "Julia 1.9.2",
   "language": "julia",
   "name": "julia-1.9"
  },
  "language_info": {
   "file_extension": ".jl",
   "mimetype": "application/julia",
   "name": "julia",
   "version": "1.9.2"
  }
 },
 "nbformat": 4,
 "nbformat_minor": 5
}

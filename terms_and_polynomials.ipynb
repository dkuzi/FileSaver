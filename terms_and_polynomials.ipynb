{
 "cells": [
  {
   "cell_type": "code",
   "execution_count": 91,
   "id": "057f243b",
   "metadata": {},
   "outputs": [],
   "source": [
    "using LinearAlgebra\n",
    "using SparseArrays\n",
    "using Test"
   ]
  },
  {
   "cell_type": "code",
   "execution_count": 123,
   "id": "c27031e0",
   "metadata": {},
   "outputs": [
    {
     "data": {
      "text/plain": [
       "get_unique_elements (generic function with 2 methods)"
      ]
     },
     "execution_count": 123,
     "metadata": {},
     "output_type": "execute_result"
    }
   ],
   "source": [
    "function get_unique_elements(x_1::Vector, x_2::Vector=[])\n",
    "    \n",
    "    \"\"\"\n",
    "    Finds indices of unique elements in Array x.\n",
    "    \n",
    "    # Arguments\n",
    "    - 'x_1::Vector{Any}': object of which to find unique indices\n",
    "    - 'x_2::Vector{Any}': Array with same length as x_1, Optional (Default is [])\n",
    "    \n",
    "    # Returns\n",
    "    - 'x_1_unique::Vector{Any}': Array of unique entries in x_1\n",
    "    - 'x_2_unique::Vector{Any}': Array of entries corresponding to unique elements in x_1\n",
    "    - 'unique_indices::Vector{Int}': Array with positions of unique elements in x\n",
    "    \"\"\"\n",
    "    sorted_x_1, sorted_x_2, sorted_list = deg_lex_sort(x_1, x_2)\n",
    "    unique_indices = unique(i -> sorted_x_1[i], 1:length(sorted_x_1))\n",
    "    x_1_unique = sorted_x_1[unique_indices]\n",
    "    if x_2 != []\n",
    "        x_2_unique = sorted_x_2[unique_indices]\n",
    "    else\n",
    "        x_2_unique = x_2\n",
    "    end\n",
    "        \n",
    "    return x_1_unique, x_2_unique, unique_indices\n",
    "    \n",
    "end"
   ]
  },
  {
   "cell_type": "code",
   "execution_count": 109,
   "id": "c8ee0343",
   "metadata": {},
   "outputs": [
    {
     "data": {
      "text/plain": [
       "mat_to_arr_of_arrs (generic function with 2 methods)"
      ]
     },
     "execution_count": 109,
     "metadata": {},
     "output_type": "execute_result"
    }
   ],
   "source": [
    "function mat_to_arr_of_arrs(A::Matrix{Any}, col_is_row::Int64=0)\n",
    "    \"\"\"\n",
    "    Transforms an object of type Matrix{Any} to an Array of Arrays where each row is an individual Array.\n",
    "    \n",
    "    # Arguments\n",
    "    - 'A::Matrix{Any}': the matrix to transform\n",
    "    - 'col_is_row::Int': If 1 (default 0), instead the columns of the matrix become individual Arrays.\n",
    "    \n",
    "    # Returns\n",
    "    - 'transformed_A::Vector{Vector{Any}}': transformed Array\n",
    "    \"\"\"\n",
    "\n",
    "    if  col_is_row == 0\n",
    "        # converts matrix to array of arrays with rows of matrix being the individual entries of array,\n",
    "        # i.e. first row of matrix A becomes the array result[1]\n",
    "        transformed_A = [A[i,:] for i in 1:size(A,1)]\n",
    "    \n",
    "    \n",
    "    elseif col_is_row == 1\n",
    "        # converts matrix to array of arrays with columns of matrix being the individual entries of array,\n",
    "        # i.e. first column of matrix A becomes the array result[1]\n",
    "        transformed_A = [A[:,i] for i in 1:size(A,2)]\n",
    "\n",
    "\n",
    "    else\n",
    "        println(\"The optional argument 'col_is_row' was given an invalid value.\")\n",
    "        return \n",
    "        \n",
    "    end\n",
    "    \n",
    "    return transformed_A\n",
    "    \n",
    "end"
   ]
  },
  {
   "cell_type": "code",
   "execution_count": 110,
   "id": "d97ec655",
   "metadata": {},
   "outputs": [
    {
     "data": {
      "text/plain": [
       "construct_border (generic function with 4 methods)"
      ]
     },
     "execution_count": 110,
     "metadata": {},
     "output_type": "execute_result"
    }
   ],
   "source": [
    "function construct_border(\n",
    "        terms::Vector{Vector{Int64}}, terms_evaluated::Vector{Vector{Float64}}, X_train::Vector{Vector{Float64}}, \n",
    "        degree_1_terms::Vector{Vector{Int64}}=[],  \n",
    "        degree_1_terms_evaluated::Vector{Vector{Float64}}=[], \n",
    "        purging_terms::Vector{Vector{Int64}}=[])\n",
    "    \"\"\"\n",
    "    Constructs the border of terms. \n",
    "    \n",
    "    # Arguments\n",
    "    - 'terms::Vector{Vector{Int}}': Array of terms to construct border from\n",
    "    - 'terms_evaluated::Vector{Vector{Float64}}': Array of evaluations of terms\n",
    "    - 'X_train::Vector{Vector{Float64}}': Array of n-dimensional data points\n",
    "    - 'degree_1_terms::Vector{Vector{Int64}}': Array of terms of degree 1 to construct border terms, Optional \n",
    "        (Default is [])\n",
    "    - 'degree_1_terms_evaluated::Vector{Float64}': Array of evaluations of degree_1_terms, Optional \n",
    "        (Default is [])\n",
    "    - 'purging_terms::Vector{Vector{Int64}}': Purge terms divisible by these terms, Optional \n",
    "        (Default is [])\n",
    "    \n",
    "    # Returns\n",
    "    - 'border_terms_raw::Vector{Vector{Int64}}': Array of unpurged border terms\n",
    "    - 'border_evaluations_raw::Vector{Vector{Float64}}': Array of evaluations of border terms\n",
    "    - 'non_purging_indices::Vector{Int64}': Array unique and non-purging indices in border_terms_raw\n",
    "    \"\"\"\n",
    "    \n",
    "    if degree_1_terms == []\n",
    "        # 'I' comes from the LinearAlgebra package\n",
    "        border_terms_raw = mat_to_arr_of_arrs(\n",
    "            1 * Matrix(I, length(X_train[1]), length(X_train[1])))\n",
    "            \n",
    "        border_terms_raw_evaluation = X_train\n",
    "        \n",
    "    else\n",
    "        # terms repeat + tile part\n",
    "        terms_repeat = repeat(terms, inner=length(degree_1_terms))    \n",
    "        l_terms = length(terms_repeat)\n",
    "        m_terms = length(degree_1_terms)\n",
    "        k_terms = Int(l_terms / m_terms) \n",
    "        degree_1_terms_tile = repeat(degree_1_terms, outer=k_terms)        \n",
    "        border_terms_raw = degree_1_terms_tile + terms_repeat\n",
    "        \n",
    "        # evaluation repeat + tile part\n",
    "        terms_evaluated_repeat = repeat(terms_evaluated, inner=length(degree_1_terms_evaluated))\n",
    "        l_eval = length(terms_evaluated_repeat)\n",
    "        m_eval = length(degree_1_terms_evaluated)\n",
    "        k_eval = Int(l_eval / m_eval)\n",
    "        degree_1_terms_evaluated_tile = repeat(degree_1_terms_evaluated, outer=k_eval)\n",
    "        border_evaluations_raw = [degree_1_terms_evaluated_tile[i] .* terms_evaluated_repeat[i] for i in 1:l_eval]\n",
    "         \n",
    "    end\n",
    "    \n",
    "    border_terms_purged, border_evaluations_purged, unique_indices = get_unique_elements(\n",
    "        border_terms_raw, border_evaluations_raw)\n",
    "    \n",
    "    if purging_terms != []\n",
    "        border_terms_purged, border_evaluations_purged, unique_indices_2 = purge(\n",
    "            border_terms_purged, border_evaluations_purged, purging_terms)\n",
    "        \n",
    "        if unique_indices_2 != []\n",
    "            non_purging_indices = [unique_indices[i] for i in unique_indices_2]\n",
    "        else\n",
    "            non_purging_indices = unique_indices\n",
    "        end\n",
    "    else\n",
    "        non_purging_indices = unique_indices\n",
    "    end\n",
    "    \n",
    "    return border_terms_raw, border_evaluations_raw, non_purging_indices\n",
    "    \n",
    "end"
   ]
  },
  {
   "cell_type": "code",
   "execution_count": 111,
   "id": "d55ead8d",
   "metadata": {},
   "outputs": [
    {
     "data": {
      "text/plain": [
       "purge (generic function with 1 method)"
      ]
     },
     "execution_count": 111,
     "metadata": {},
     "output_type": "execute_result"
    }
   ],
   "source": [
    "function purge(\n",
    "        terms::Vector{Vector{Int64}}, \n",
    "        terms_evaluated::Vector{Vector{Float64}}, \n",
    "        purging_terms::Vector{Vector{Int64}})\n",
    "    \"\"\"\n",
    "    Purges all the terms in 'terms' that are divisible by at least one term in 'purging_terms'.\n",
    "    \n",
    "    # Arguments\n",
    "    - 'terms::Vector{Vector{Int64}}': Array of terms \n",
    "    - 'terms_evaluated:::Vector{Vector{Float64}}': Array of evaluations of terms \n",
    "    - 'purging_terms::Vector{Vector{Int64}}':  Array of possible divisor terms\n",
    "    \n",
    "    # Returns\n",
    "    - 'terms[indices]::Vector{Vector{Int64}}': purged version of terms\n",
    "    - 'terms_evaluated[indices]::Vector{Vector{Float64}}': purged version of terms_evaluated\n",
    "    - 'indices::Vector{Int64}': Array of indices of purged terms in 'terms'\n",
    "    \"\"\"\n",
    "    indices = [x for x in 1:length(terms)]\n",
    "    purge_indices = []\n",
    "    for i in eachindex(terms)\n",
    "        for j in eachindex(purging_terms)\n",
    "            if all(terms[i] .- purging_terms[j] .>= 0)\n",
    "                append!(purge_indices, i)\n",
    "                break\n",
    "            end\n",
    "        end\n",
    "    end\n",
    "    indices = deleteat!(indices, purge_indices)\n",
    "    return terms[indices], terms_evaluated[indices], indices\n",
    "end"
   ]
  },
  {
   "cell_type": "code",
   "execution_count": 113,
   "id": "842c6d90",
   "metadata": {},
   "outputs": [
    {
     "name": "stdout",
     "output_type": "stream",
     "text": [
      "\u001b[0m\u001b[1mTest Summary:        | \u001b[22m\u001b[32m\u001b[1mPass  \u001b[22m\u001b[39m\u001b[36m\u001b[1mTotal  \u001b[22m\u001b[39m\u001b[0m\u001b[1mTime\u001b[22m\n",
      "Test suite for purge | \u001b[32m   4  \u001b[39m\u001b[36m    4  \u001b[39m\u001b[0m0.0s\n"
     ]
    },
    {
     "data": {
      "text/plain": [
       "Test.DefaultTestSet(\"Test suite for purge\", Any[], 4, false, false, true, 1.684423543142e9, 1.684423543142e9)"
      ]
     },
     "execution_count": 113,
     "metadata": {},
     "output_type": "execute_result"
    }
   ],
   "source": [
    "@testset \"Test suite for purge\" begin\n",
    "    matrix_2 = [\n",
    "        [1, 0, 1],\n",
    "        [2, 0, 1],\n",
    "        [3, 1, 1]\n",
    "    ]\n",
    "    matrix_1 = [\n",
    "        [1, 0, 0],\n",
    "        [1, 1, 1]\n",
    "    ]\n",
    "    matrix_2_purged, matrix_2_purged_2, _ = purge(matrix_2, 1.0*matrix_2, matrix_1)\n",
    "    @test length(matrix_2_purged) == 0\n",
    "    @test length(matrix_2_purged_2) == 0\n",
    "    \n",
    "    matrix_2 = [\n",
    "        [1, 0, 1],\n",
    "        [2, 0, 1],\n",
    "        [3, 1, 1]\n",
    "    ]\n",
    "    matrix_1 = [\n",
    "        [1, 0, 2],\n",
    "        [1, 2, 1]\n",
    "    ]\n",
    "    matrix_2_purged, matrix_2_purged_2, _ = purge(matrix_2, 1.0*matrix_2, matrix_1)\n",
    "    @test matrix_2_purged == matrix_2_purged_2\n",
    "    @test matrix_2_purged == [[1, 0, 1], [2, 0, 1], [3, 1, 1]]\n",
    "end"
   ]
  },
  {
   "cell_type": "code",
   "execution_count": 114,
   "id": "7fa786b7",
   "metadata": {},
   "outputs": [
    {
     "data": {
      "text/plain": [
       "monomial_evaluation (generic function with 2 methods)"
      ]
     },
     "execution_count": 114,
     "metadata": {},
     "output_type": "execute_result"
    }
   ],
   "source": [
    "function monomial_evaluation(m::Vector{Int64}, x::Vector{Float64}, coeff=1)\n",
    "    \"\"\"\n",
    "    Evaluates monomial m at point x.\n",
    "    \n",
    "    # Arguments\n",
    "    - 'm::Vector{Int64}': monomial under which to evaluate x\n",
    "    - 'x::Vector{Float64}': point at which to evaluate m\n",
    "    - 'coeff=1': coefficient for monomial m, Optional\n",
    "    \n",
    "    # Returns \n",
    "    - 'evaluation::Float64': evaluation of m at point x\n",
    "    \"\"\"\n",
    "    result = 1\n",
    "    \n",
    "    for i in 1:length(m)\n",
    "        result *= x[i]^m[i]\n",
    "    end\n",
    "    \n",
    "    evaluation = coeff * result\n",
    "    return evaluation\n",
    "end"
   ]
  },
  {
   "cell_type": "code",
   "execution_count": 115,
   "id": "4a78824b",
   "metadata": {},
   "outputs": [
    {
     "data": {
      "text/plain": [
       "monomial_evaluation_set (generic function with 2 methods)"
      ]
     },
     "execution_count": 115,
     "metadata": {},
     "output_type": "execute_result"
    }
   ],
   "source": [
    "function monomial_evaluation_set(m::Vector{Int64}, X::Vector{Vector{Float64}}, coeff=1)\n",
    "    \"\"\"\n",
    "    Evaluates a set of points X under a single monomial m.\n",
    "    \n",
    "    # Arguments\n",
    "    - 'm::Vector{Int64}': monomial under which to evaluate X\n",
    "    - 'X::Vector{Vector{Float64}}': set of points to evaluate\n",
    "    - 'coeff=1': coefficient for monomial m, Optional\n",
    "    \n",
    "    # Returns\n",
    "    'evaluated::Vector{Float64}': Array of evaluations of m, evaluated[i] is the evaluation of m at point X[i].\n",
    "    \"\"\"    \n",
    "    results = ones(length(X))\n",
    "        \n",
    "    for i in 1:length(X)\n",
    "        results[i] = monomial_evaluation(m, X[i])\n",
    "    end\n",
    "    evaluated = coeff * results\n",
    "    return evaluated\n",
    "    \n",
    "end"
   ]
  },
  {
   "cell_type": "code",
   "execution_count": 116,
   "id": "5c099c28",
   "metadata": {},
   "outputs": [
    {
     "data": {
      "text/plain": [
       "monomial_set_evaluation_set (generic function with 2 methods)"
      ]
     },
     "execution_count": 116,
     "metadata": {},
     "output_type": "execute_result"
    }
   ],
   "source": [
    "function monomial_set_evaluation_set(M::Vector{Vector{Int64}}, X::Vector{Vector{Float64}}, coeffs=1)\n",
    "    \"\"\"\n",
    "    Evaluates a set of points X under a set of monomials M.\n",
    "    \n",
    "    # Arguments\n",
    "    - 'M::Vector{Vector{Int64}}': set of monomials under which to evaluate X\n",
    "    - 'X::Vector{Vector{Float64}}': set of points at which to evaluate M\n",
    "    - 'coeffs=1': coefficient(s) for all (each) monomial in M, Optional\n",
    "    \n",
    "    # Returns\n",
    "    - 'all_evaluated::Vector{Vector{Float64}}': Array of Arrays where all_evaluated[i][j] is \n",
    "    monomial M[i] evaluated at point X[j]\n",
    "    \"\"\"        \n",
    "    result = [[] for _ in 1:length(M)]\n",
    "    \n",
    "    for i in 1:length(M)\n",
    "        result[i] = monomial_evaluation_set(M[i], X)\n",
    "    end\n",
    "    \n",
    "    all_evaluated = coeffs .* result\n",
    "    return all_evaluated\n",
    "    \n",
    "end"
   ]
  },
  {
   "cell_type": "code",
   "execution_count": 117,
   "id": "22b340bf",
   "metadata": {},
   "outputs": [
    {
     "name": "stdout",
     "output_type": "stream",
     "text": [
      "\u001b[0m\u001b[1mTest Summary:                          | \u001b[22m\u001b[32m\u001b[1mPass  \u001b[22m\u001b[39m\u001b[36m\u001b[1mTotal  \u001b[22m\u001b[39m\u001b[0m\u001b[1mTime\u001b[22m\n",
      "Test suite for monomial_evaluation_set | \u001b[32m   2  \u001b[39m\u001b[36m    2  \u001b[39m\u001b[0m0.2s\n"
     ]
    },
    {
     "data": {
      "text/plain": [
       "Test.DefaultTestSet(\"Test suite for monomial_evaluation_set\", Any[], 2, false, false, true, 1.684423544714e9, 1.68442354493e9)"
      ]
     },
     "execution_count": 117,
     "metadata": {},
     "output_type": "execute_result"
    }
   ],
   "source": [
    "@testset \"Test suite for monomial_evaluation_set\" begin\n",
    "    m1 = [4, 1, 2]\n",
    "    X1 = [[1.0, 2.0, 3.0], [1.0, 0.5, 2.0]]\n",
    "    coeff = 4.5\n",
    "    @test monomial_evaluation_set(m1, X1) == [18.0, 2.0]\n",
    "    @test monomial_evaluation_set(m1, X1, coeff) == [81.0, 9.0]\n",
    "end"
   ]
  },
  {
   "cell_type": "code",
   "execution_count": 118,
   "id": "8e4b4540",
   "metadata": {},
   "outputs": [
    {
     "name": "stdout",
     "output_type": "stream",
     "text": [
      "\u001b[0m\u001b[1mTest Summary:                              | \u001b[22m\u001b[32m\u001b[1mPass  \u001b[22m\u001b[39m\u001b[36m\u001b[1mTotal  \u001b[22m\u001b[39m\u001b[0m\u001b[1mTime\u001b[22m\n",
      "Test suite for monomial_set_evaluation_set | \u001b[32m   2  \u001b[39m\u001b[36m    2  \u001b[39m\u001b[0m0.5s\n"
     ]
    },
    {
     "data": {
      "text/plain": [
       "Test.DefaultTestSet(\"Test suite for monomial_set_evaluation_set\", Any[], 2, false, false, true, 1.684423544936e9, 1.684423545466e9)"
      ]
     },
     "execution_count": 118,
     "metadata": {},
     "output_type": "execute_result"
    }
   ],
   "source": [
    "@testset \"Test suite for monomial_set_evaluation_set\" begin\n",
    "    M1 = [[4, 1, 2], [3, 0, 2], [0, 2, 1]]\n",
    "    X1 = [[1.0, 2.0, 3.0], [1.0, 0.5, 2.0]]\n",
    "    coeffs = [2.0, 1.0, 5.0]\n",
    "    @test monomial_set_evaluation_set(M1, X1) == [[18.0, 2.0], [9.0, 4.0], [12.0, 0.5]]\n",
    "    @test monomial_set_evaluation_set(M1, X1, coeffs) == [[36.0, 4.0], [9.0, 4.0], [60.0, 2.5]]\n",
    "end"
   ]
  },
  {
   "cell_type": "code",
   "execution_count": 119,
   "id": "41c9c61e",
   "metadata": {},
   "outputs": [
    {
     "data": {
      "text/plain": [
       "compute_degree (generic function with 1 method)"
      ]
     },
     "execution_count": 119,
     "metadata": {},
     "output_type": "execute_result"
    }
   ],
   "source": [
    "function compute_degree(matrix::Vector{Vector{Int64}})\n",
    "    \"\"\"\n",
    "    Computes the sum of the row entries, which for matrices representing terms is equal to the degree.\n",
    "    \n",
    "    # Arguments\n",
    "    - 'matrix::Vector{Vector{Int64}}': matrix whose row degrees have to be computed.\n",
    "    \n",
    "    # Returns\n",
    "    - 'degree_array::Vector{Int64}': Array containing degrees of all rows.\n",
    "    \"\"\"\n",
    "    degree_array = sum.(matrix)\n",
    "    return degree_array\n",
    "end"
   ]
  },
  {
   "cell_type": "code",
   "execution_count": 120,
   "id": "7919a50c",
   "metadata": {},
   "outputs": [
    {
     "data": {
      "text/plain": [
       "deg_lex_sort (generic function with 3 methods)"
      ]
     },
     "execution_count": 120,
     "metadata": {},
     "output_type": "execute_result"
    }
   ],
   "source": [
    "function deg_lex_sort(matrix_1::Vector{Vector{Int64}}, matrix_2=[])\n",
    "    \"\"\"\n",
    "    Sorts the rows of matrix_1 degree-lexicographically and matrix_2 accordingly\n",
    "    \n",
    "    # Arguments\n",
    "    - 'matrix_1::Vector{Vector{Int64}}': term matrix to be sorted\n",
    "    - 'matrix_2::Vector{Vector{Int64}}': matrix getting sorted the same way matrix_1 is (Default is [])\n",
    "    \n",
    "    # Returns\n",
    "    - 'matrix_1::Vector{Vector{Int64}}': matrix_1 sorted degree_lexicographically\n",
    "    - 'matrix_2::Vector{Vector{Int64}}': matrix_2 sorted like matrix_1\n",
    "    \"\"\"\n",
    "    degrees = compute_degree(matrix_1)\n",
    "    for i in 1:length(degrees)\n",
    "        # using reverse + Base.sortperm sorts first by degree and then \n",
    "        # from last to first variable exponent.\n",
    "        matrix_1[i] = append!([degrees[i]], reverse(matrix_1[i]))\n",
    "    end\n",
    "    # find the permutation to correctly sort matrix_1\n",
    "    sorted_list = sortperm(matrix_1)\n",
    "    matrix_1 = matrix_1[sorted_list]\n",
    "    # deletes first entry (degree) in each term\n",
    "    matrix_1 = [reverse(deleteat!(matrix_1[i], 1)) for i in 1:length(matrix_1)]\n",
    "    if matrix_2 != []\n",
    "        matrix_2 = matrix_2[sorted_list]\n",
    "    end\n",
    "    return matrix_1, matrix_2, sorted_list\n",
    "end"
   ]
  },
  {
   "cell_type": "code",
   "execution_count": 121,
   "id": "39dc6116",
   "metadata": {},
   "outputs": [
    {
     "data": {
      "text/plain": [
       "4-element Vector{Vector{Int64}}:\n",
       " [1, 0, 1]\n",
       " [3, 2, 1]\n",
       " [2, 1, 3]\n",
       " [4, 3, 2]"
      ]
     },
     "execution_count": 121,
     "metadata": {},
     "output_type": "execute_result"
    }
   ],
   "source": [
    "matrix = [\n",
    "    [1,0,1],\n",
    "    [2,1,3],\n",
    "    [3,2,1],\n",
    "    [4,3,2],\n",
    "    [3,2,1]\n",
    "]\n",
    "matrix_sorted = [\n",
    "    [1,0,1],\n",
    "    [3,2,1],\n",
    "    [3,2,1],\n",
    "    [2,1,3],\n",
    "    [4,3,2]\n",
    "]\n",
    "matrix_sorted_unique = [\n",
    "    [1,0,1],\n",
    "    [3,2,1],\n",
    "    [2,1,3],\n",
    "    [4,3,2]\n",
    "]"
   ]
  },
  {
   "cell_type": "code",
   "execution_count": 122,
   "id": "9809755c",
   "metadata": {},
   "outputs": [
    {
     "name": "stdout",
     "output_type": "stream",
     "text": [
      "\u001b[0m\u001b[1mTest Summary:               | \u001b[22m\u001b[32m\u001b[1mPass  \u001b[22m\u001b[39m\u001b[36m\u001b[1mTotal  \u001b[22m\u001b[39m\u001b[0m\u001b[1mTime\u001b[22m\n",
      "Test suite for deg_lex_sort | \u001b[32m   2  \u001b[39m\u001b[36m    2  \u001b[39m\u001b[0m0.0s\n"
     ]
    },
    {
     "data": {
      "text/plain": [
       "Test.DefaultTestSet(\"Test suite for deg_lex_sort\", Any[], 2, false, false, true, 1.68442354681e9, 1.684423546859e9)"
      ]
     },
     "execution_count": 122,
     "metadata": {},
     "output_type": "execute_result"
    }
   ],
   "source": [
    "@testset \"Test suite for deg_lex_sort\" begin\n",
    "    \"\"\"\n",
    "    Tests whether deg_lex_sort behaves as intended.\n",
    "    \"\"\"\n",
    "    # since deg_lex_sort directly alters the input matrix, need to pass a copy of 'matrix' to ensure \n",
    "    # matrix_2 permutates an unchanged copy of 'matrix'\n",
    "    matrix_1, matrix_2 = copy(matrix), copy(matrix)\n",
    "    matrix_sorted_1, matrix_sorted_2, a = deg_lex_sort(matrix_1, matrix_2)\n",
    "    @test matrix_sorted_1 == matrix_sorted\n",
    "    @test matrix_sorted_2 == matrix_sorted\n",
    "end"
   ]
  },
  {
   "cell_type": "code",
   "execution_count": 107,
   "id": "b64bff63",
   "metadata": {},
   "outputs": [
    {
     "name": "stdout",
     "output_type": "stream",
     "text": [
      "\u001b[0m\u001b[1mTest Summary:                 | \u001b[22m\u001b[32m\u001b[1mPass  \u001b[22m\u001b[39m\u001b[36m\u001b[1mTotal  \u001b[22m\u001b[39m\u001b[0m\u001b[1mTime\u001b[22m\n",
      "Test suite for compute_degree | \u001b[32m   1  \u001b[39m\u001b[36m    1  \u001b[39m\u001b[0m0.0s\n"
     ]
    },
    {
     "data": {
      "text/plain": [
       "Test.DefaultTestSet(\"Test suite for compute_degree\", Any[], 1, false, false, true, 1.684423385646e9, 1.684423385646e9)"
      ]
     },
     "execution_count": 107,
     "metadata": {},
     "output_type": "execute_result"
    }
   ],
   "source": [
    "@testset \"Test suite for compute_degree\" begin\n",
    "    \"\"\"\n",
    "    Tests whether compute_degree behaves as intended.\n",
    "    \"\"\"\n",
    "    matrix_1 = copy(matrix)\n",
    "    @test compute_degree(matrix) == [2, 6, 6, 9, 6]\n",
    "end"
   ]
  },
  {
   "cell_type": "code",
   "execution_count": 124,
   "id": "6a8c93ed",
   "metadata": {},
   "outputs": [
    {
     "name": "stdout",
     "output_type": "stream",
     "text": [
      "\u001b[0m\u001b[1mTest Summary:                      | \u001b[22m\u001b[32m\u001b[1mPass  \u001b[22m\u001b[39m\u001b[36m\u001b[1mTotal  \u001b[22m\u001b[39m\u001b[0m\u001b[1mTime\u001b[22m\n",
      "Test suite for get_unique_elements | \u001b[32m   2  \u001b[39m\u001b[36m    2  \u001b[39m\u001b[0m0.3s\n"
     ]
    },
    {
     "data": {
      "text/plain": [
       "Test.DefaultTestSet(\"Test suite for get_unique_elements\", Any[], 2, false, false, true, 1.684423753148e9, 1.684423753483e9)"
      ]
     },
     "execution_count": 124,
     "metadata": {},
     "output_type": "execute_result"
    }
   ],
   "source": [
    "@testset \"Test suite for get_unique_elements\" begin\n",
    "    \"\"\"\n",
    "    Tests whether get_unique_elements behaves as intended.\n",
    "    \"\"\"\n",
    "    matrix_1, matrix_2 = copy(matrix), copy(matrix)\n",
    "    matrix_unique_1, matrix_unique_2, _ = get_unique_elements(matrix_1, matrix_2)\n",
    "    @test matrix_unique_1 == matrix_sorted_unique\n",
    "    @test matrix_unique_2 == matrix_sorted_unique\n",
    "end"
   ]
  },
  {
   "cell_type": "code",
   "execution_count": null,
   "id": "49931cb0",
   "metadata": {},
   "outputs": [],
   "source": []
  }
 ],
 "metadata": {
  "kernelspec": {
   "display_name": "Julia 1.8.5",
   "language": "julia",
   "name": "julia-1.8"
  },
  "language_info": {
   "file_extension": ".jl",
   "mimetype": "application/julia",
   "name": "julia",
   "version": "1.8.5"
  }
 },
 "nbformat": 4,
 "nbformat_minor": 5
}

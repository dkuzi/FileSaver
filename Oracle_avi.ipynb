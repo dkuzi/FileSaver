{
 "cells": [
  {
   "cell_type": "code",
   "execution_count": 40,
   "id": "4d338292",
   "metadata": {},
   "outputs": [],
   "source": [
    "using LinearAlgebra\n",
    "using FrankWolfe\n",
    "include(\"terms_and_polynomials.jl\")\n",
    "include(\"auxiliary_functions.jl\")\n",
    "include(\"objective_functions.jl\");"
   ]
  },
  {
   "cell_type": "markdown",
   "id": "6fbddc8c",
   "metadata": {},
   "source": [
    "# OAVI Algorithm"
   ]
  },
  {
   "cell_type": "code",
   "execution_count": 41,
   "id": "503d31b3-5250-4c15-9dd4-d2c1e4e055e4",
   "metadata": {},
   "outputs": [
    {
     "data": {
      "text/plain": [
       "SetsOandG"
      ]
     },
     "execution_count": 41,
     "metadata": {},
     "output_type": "execute_result"
    }
   ],
   "source": [
    "\"\"\"\n",
    "Creates and keeps track of sets O and G for OAVI.\n",
    "\"\"\"\n",
    "mutable struct SetsOandG\n",
    "    \n",
    "# border terms before purging by degree\n",
    "border_terms_raw\n",
    "# evaluations of border_terms_raw over X by degree\n",
    "border_evaluations_raw\n",
    "# border terms after purging by degree\n",
    "border_terms_purged\n",
    "# evaluations of border_terms_purged over X by degree\n",
    "border_evaluations_purged\n",
    "# indices such that border_terms_raw[i][non_purging_indices[i], :] = border_terms_purged[i]\n",
    "non_purging_indices   \n",
    "\n",
    "# array of O terms by degree\n",
    "O_terms\n",
    "# array of evaluation of O terms over X by degree\n",
    "O_terms_evaluations\n",
    "# indices in the border that get appended to O\n",
    "O_indices\n",
    "\n",
    "# sets for vanishing polynomials\n",
    "G_coefficient_vectors\n",
    "G_evaluations\n",
    "\n",
    "# leading terms\n",
    "leading_terms\n",
    "    \n",
    "end"
   ]
  },
  {
   "cell_type": "code",
   "execution_count": 76,
   "id": "5698e12b",
   "metadata": {},
   "outputs": [
    {
     "data": {
      "text/plain": [
       "fit"
      ]
     },
     "execution_count": 76,
     "metadata": {},
     "output_type": "execute_result"
    }
   ],
   "source": [
    "\"\"\"\n",
    "Creates OAVI feature transformation fitted to X_train\n",
    "\n",
    "# Arguments\n",
    "- 'X_train::Vector{Vector{Float64}}': training data\n",
    "- 'max_degree::Int64': max degree of polynomials computed (default 10)\n",
    "- 'psi::Float64': vanishing extent (default 0.1)\n",
    "- 'epsilon::Float64': accuracy for convex optimizer (default 0.001)\n",
    "- 'tau::Union{Float64, Int64}': upper bound on norm of coefficient vector\n",
    "\n",
    "# Returns\n",
    "- 'X_train_transformed::Vector{Vector{Float64}}': transformed X_train\n",
    "- 'sets::sets_avi': instance of mutable struct keeping track of sets for AVI \n",
    "\"\"\"\n",
    "function fit(X_train::Vector{Vector{Float64}}; \n",
    "        max_degree::Int64=10, psi::Float64=0.1, epsilon::Float64=0.001, tau::Union{Float64, Int64}=1000,\n",
    "        lmbda::Float64=0., tol::Float64=0.0001, objective_type::String=\"L2Loss\", region_type::String=\"L1Ball\", \n",
    "        oracle_type::String=\"CG\", max_iters::Int64=10000, inverse_hessian_boosting::String=\"false\")\n",
    "    \n",
    "    #X_train = vecvec_to_mat(X_train)\n",
    "    \n",
    "    sets = SetsOandG([nothing], [nothing], [nothing], [nothing], [nothing],\n",
    "    zeros(Int64, length(X_train), 1), ones(Float64, length(X_train), 1), [],\n",
    "    [nothing], [], \n",
    "    [])\n",
    "    \n",
    "    degree = 0\n",
    "    while degree < max_degree\n",
    "        degree += 1\n",
    "            \n",
    "        border_terms_raw, border_evaluations_raw, non_purging_indices = construct_border(sets.O_terms, sets.O_terms_evaluations, X_train)\n",
    "        border_terms = border_terms_raw[:, non_purging_indices]\n",
    "        border_evaluations = border_evaluations_raw[:, non_purging_indices]\n",
    "\n",
    "        return border_evaluations\n",
    "        \n",
    "        O_indices = []\n",
    "        leading_terms = []\n",
    "        G_coefficient_vectors = nothing\n",
    "\n",
    "        data = sets.O_terms_evaluations\n",
    "        data_squared = data' * data\n",
    "        data_squared_inverse = nothing\n",
    "\n",
    "        for col_idx in 1:size(border_terms, 2)\n",
    "\n",
    "            if G_coefficient_vectors != nothing\n",
    "                G_coefficient_vectors = vcat(G_coefficient_vectors, zeros(Float64, 1, size(G_coefficient_vectors, 2)))\n",
    "            end\n",
    "\n",
    "            term_evaluated = border_evaluations[:, col_idx]\n",
    "            data_term_evaluated = data' * term_evaluated\n",
    "            term_evaluated_squared = term_evaluated' * term_evaluated\n",
    "\n",
    "        \n",
    "            \n",
    "            f, grad!, region = nothing, nothing, nothing\n",
    "            \n",
    "            if objective_type == \"L2Loss\"\n",
    "                Loss, f, grad! = construct_L2Loss(data, term_evaluated; lmbda=lmbda, data_squared=data_squared, labels_squared=term_evaluated_squared, \n",
    "                                    data_squared_inverse=data_squared_inverse, data_labels=data_term_evaluated)\n",
    "            end\n",
    "\n",
    "            if region_type == \"L1Ball\"\n",
    "                region = FrankWolfe.LpNormLMO{1}(tau-1)\n",
    "            end\n",
    "\n",
    "            @assert f != nothing \"Objective function f not defined.\"\n",
    "            @assert grad! != nothing \"Gradient of f not defined.\"\n",
    "            @assert region != nothing \"Feasible region not defined.\"\n",
    "\n",
    "            # compute initial point\n",
    "            x0 = Vector(compute_extreme_point(region, zeros(Float64, size(data, 2))))\n",
    "            #return size(data)\n",
    "            #return f(x0)\n",
    "            return grad!(similar(x0), x0)\n",
    "\n",
    "            coefficient_vector, _ = call_oracle(f, grad!, region, x0)\n",
    "            coefficient_vector_full = vcat(coefficient_vector, [1])\n",
    "            #data_with_labels = vcat(data, labels)\n",
    "            #loss = (1 / size(data, 1)) * norm(data_with_labels * coefficient_vector_full, 2)^2\n",
    "        end\n",
    "\n",
    "    end\n",
    "end"
   ]
  },
  {
   "cell_type": "code",
   "execution_count": 77,
   "id": "54475740",
   "metadata": {},
   "outputs": [
    {
     "data": {
      "text/plain": [
       "4×2 Matrix{Float64}:\n",
       " 1.0  2.0\n",
       " 1.0  2.0\n",
       " 1.0  2.0\n",
       " 1.0  2.0"
      ]
     },
     "execution_count": 77,
     "metadata": {},
     "output_type": "execute_result"
    }
   ],
   "source": [
    "fit([[1.0, 2.0], \n",
    "[1.0, 2.0], \n",
    "[1.0, 2.0], \n",
    "[1.0, 2.0]])"
   ]
  },
  {
   "cell_type": "code",
   "execution_count": 5,
   "id": "ee6ccf04",
   "metadata": {},
   "outputs": [
    {
     "data": {
      "text/plain": [
       "FrankWolfe.LpNormLMO{Float64, 1}(1.0)"
      ]
     },
     "execution_count": 5,
     "metadata": {},
     "output_type": "execute_result"
    }
   ],
   "source": [
    "lmo = FrankWolfe.LpNormLMO{1}(1.)"
   ]
  },
  {
   "cell_type": "code",
   "execution_count": 6,
   "id": "5bc47e3c-cd34-42b5-9bd8-e8c8e2581185",
   "metadata": {},
   "outputs": [
    {
     "data": {
      "text/plain": [
       "3-element FrankWolfe.ScaledHotVector{Float64}:\n",
       " 1.0\n",
       " 0.0\n",
       " 0.0"
      ]
     },
     "execution_count": 6,
     "metadata": {},
     "output_type": "execute_result"
    }
   ],
   "source": [
    "a = compute_extreme_point(lmo, zeros(Float64, 3))"
   ]
  },
  {
   "cell_type": "code",
   "execution_count": 7,
   "id": "33203bff-cede-4b4e-947e-050d7458be63",
   "metadata": {},
   "outputs": [
    {
     "data": {
      "text/plain": [
       "3-element Vector{Float64}:\n",
       " 1.0\n",
       " 0.0\n",
       " 0.0"
      ]
     },
     "execution_count": 7,
     "metadata": {},
     "output_type": "execute_result"
    }
   ],
   "source": [
    "Vector(a)"
   ]
  },
  {
   "cell_type": "code",
   "execution_count": 64,
   "id": "c777a778-0e5e-4f2a-a35b-ea6145ff95f3",
   "metadata": {},
   "outputs": [
    {
     "data": {
      "text/plain": [
       "3×1 Matrix{Float64}:\n",
       " 1.0\n",
       " 1.0\n",
       " 1.0"
      ]
     },
     "execution_count": 64,
     "metadata": {},
     "output_type": "execute_result"
    }
   ],
   "source": [
    "a = ones(3, 1)"
   ]
  },
  {
   "cell_type": "code",
   "execution_count": 66,
   "id": "d0d528b7-b488-45bf-ad44-35ad7fe7bba4",
   "metadata": {},
   "outputs": [
    {
     "data": {
      "text/plain": [
       "3-element Vector{Float64}:\n",
       " 1.0\n",
       " 1.0\n",
       " 1.0"
      ]
     },
     "execution_count": 66,
     "metadata": {},
     "output_type": "execute_result"
    }
   ],
   "source": [
    "a = reshape(a, 3)"
   ]
  },
  {
   "cell_type": "code",
   "execution_count": 67,
   "id": "888463ea-f235-4d95-8a81-762c9052ce91",
   "metadata": {},
   "outputs": [
    {
     "data": {
      "text/plain": [
       "3×1 Matrix{Float64}:\n",
       " 1.0\n",
       " 1.0\n",
       " 1.0"
      ]
     },
     "execution_count": 67,
     "metadata": {},
     "output_type": "execute_result"
    }
   ],
   "source": [
    "reshape(a, 3, 1)"
   ]
  },
  {
   "cell_type": "code",
   "execution_count": null,
   "id": "42135ea5-ca6e-4c5f-a4f5-db5e53ade227",
   "metadata": {},
   "outputs": [],
   "source": []
  }
 ],
 "metadata": {
  "kernelspec": {
   "display_name": "Julia 1.9.2",
   "language": "julia",
   "name": "julia-1.9"
  },
  "language_info": {
   "file_extension": ".jl",
   "mimetype": "application/julia",
   "name": "julia",
   "version": "1.9.2"
  }
 },
 "nbformat": 4,
 "nbformat_minor": 5
}

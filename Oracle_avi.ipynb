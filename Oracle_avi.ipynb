{
 "cells": [
  {
   "cell_type": "code",
   "execution_count": 1,
   "id": "4d338292",
   "metadata": {},
   "outputs": [],
   "source": [
    "using LinearAlgebra\n",
    "using FrankWolfe\n",
    "include(\"terms_and_polynomials.jl\")\n",
    "include(\"auxiliary_functions.jl\")\n",
    "include(\"objective_functions.jl\");"
   ]
  },
  {
   "cell_type": "markdown",
   "id": "6fbddc8c",
   "metadata": {},
   "source": [
    "# OAVI Algorithm"
   ]
  },
  {
   "cell_type": "code",
   "execution_count": 19,
   "id": "5698e12b",
   "metadata": {},
   "outputs": [
    {
     "data": {
      "text/plain": [
       "fit"
      ]
     },
     "execution_count": 19,
     "metadata": {},
     "output_type": "execute_result"
    }
   ],
   "source": [
    "\"\"\"\n",
    "Creates OAVI feature transformation fitted to X_train\n",
    "\n",
    "# Arguments\n",
    "- 'X_train::Vector{Vector{Float64}}': training data\n",
    "- 'max_degree::Int64': max degree of polynomials computed (default 10)\n",
    "- 'psi::Float64': vanishing extent (default 0.1)\n",
    "- 'epsilon::Float64': accuracy for convex optimizer (default 0.001)\n",
    "- 'tau::Union{Float64, Int64}': upper bound on norm of coefficient vector\n",
    "\n",
    "# Returns\n",
    "- 'X_train_transformed::Vector{Vector{Float64}}': transformed X_train\n",
    "- 'sets::sets_avi': instance of mutable struct keeping track of sets for AVI \n",
    "\"\"\"  # line 14\n",
    "function fit(X_train::Vector{Vector{Float64}}; \n",
    "        max_degree::Int64=10, psi::Float64=0.1, epsilon::Float64=0.001, tau::Union{Float64, Int64}=1000,\n",
    "        lmbda::Float64=0., tol::Float64=0.0001, objective_type::String=\"L2Loss\", region_type::String=\"L1Ball\", \n",
    "        oracle_type::String=\"CG\", max_iters::Int64=10000, inverse_hessian_boosting::String=\"false\")\n",
    "\n",
    "    m, n = length(X_train), length(X_train[1])\n",
    "    \n",
    "    sets = SetsOandG([nothing], [nothing], [nothing], [nothing], [nothing],\n",
    "    zeros(Int64, length(X_train), 1), ones(Float64, length(X_train), 1), [],\n",
    "    [nothing], zeros(Float64, m, 0), \n",
    "    nothing)\n",
    "    \n",
    "    degree = 0\n",
    "    while degree < max_degree\n",
    "        degree += 1 \n",
    "        # line 30\n",
    "        border_terms_raw, border_evaluations_raw, non_purging_indices = construct_border(sets.O_terms, sets.O_terms_evaluations, X_train)\n",
    "        border_terms = border_terms_raw[:, non_purging_indices]\n",
    "        border_evaluations = border_evaluations_raw[:, non_purging_indices]\n",
    "        \n",
    "        O_indices = []\n",
    "        leading_terms = []\n",
    "        G_coefficient_vectors = nothing\n",
    "\n",
    "        data = sets.O_terms_evaluations\n",
    "        data_squared = data' * data\n",
    "        data_squared_inverse = nothing\n",
    "\n",
    "        for col_idx in 1:size(border_terms, 2)\n",
    "\n",
    "            if G_coefficient_vectors != nothing\n",
    "                G_coefficient_vectors = vcat(G_coefficient_vectors, zeros(Float64, 1, size(G_coefficient_vectors, 2)))\n",
    "            end\n",
    "\n",
    "            term_evaluated = border_evaluations[:, col_idx] \n",
    "            data_term_evaluated = data' * term_evaluated\n",
    "            term_evaluated_squared = term_evaluated' * term_evaluated\n",
    "            \n",
    "            f, grad!, region = nothing, nothing, nothing\n",
    "            \n",
    "            if objective_type == \"L2Loss\"\n",
    "                Loss, f, grad! = construct_L2Loss(data, term_evaluated; lmbda=lmbda, data_squared=data_squared, labels_squared=term_evaluated_squared, \n",
    "                                    data_squared_inverse=data_squared_inverse, data_labels=data_term_evaluated)\n",
    "            end\n",
    "\n",
    "            if region_type == \"L1Ball\"\n",
    "                region = FrankWolfe.LpNormLMO{1}(tau-1)\n",
    "            end\n",
    "\n",
    "            @assert f != nothing \"Objective function f not defined.\"\n",
    "            @assert grad! != nothing \"Gradient of f not defined.\"\n",
    "            @assert region != nothing \"Feasible region not defined.\"\n",
    "# line 67\n",
    "            # compute initial point \n",
    "            x0 = Vector(compute_extreme_point(region, zeros(Float64, size(data, 2))))\n",
    "            #return size(data)\n",
    "            #return f(x0)\n",
    "            #return grad!(similar(x0), x0)\n",
    "\n",
    "            coefficient_vector = call_oracle(f, grad!, region, x0)\n",
    "            coefficient_vector_full = vcat(coefficient_vector, [1])\n",
    "            #data_with_labels = vcat(data, labels)\n",
    "            #loss = (1 / size(data, 1)) * norm(data_with_labels * coefficient_vector_full, 2)^2\n",
    "            return \"We got it.\"\n",
    "        end\n",
    "\n",
    "    end\n",
    "end"
   ]
  },
  {
   "cell_type": "code",
   "execution_count": 20,
   "id": "54475740",
   "metadata": {},
   "outputs": [
    {
     "name": "stderr",
     "output_type": "stream",
     "text": [
      "\u001b[33m\u001b[1m┌ \u001b[22m\u001b[39m\u001b[33m\u001b[1mWarning: \u001b[22m\u001b[39mSmoothness estimate run away -> hard clipping. Convergence might be not guaranteed.\n",
      "\u001b[33m\u001b[1m└ \u001b[22m\u001b[39m\u001b[90m@ FrankWolfe C:\\Users\\pusty\\.julia\\packages\\FrankWolfe\\MDe7s\\src\\linesearch.jl:367\u001b[39m\n",
      "\u001b[33m\u001b[1m┌ \u001b[22m\u001b[39m\u001b[33m\u001b[1mWarning: \u001b[22m\u001b[39mSmoothness estimate run away -> hard clipping. Convergence might be not guaranteed.\n",
      "\u001b[33m\u001b[1m└ \u001b[22m\u001b[39m\u001b[90m@ FrankWolfe C:\\Users\\pusty\\.julia\\packages\\FrankWolfe\\MDe7s\\src\\linesearch.jl:367\u001b[39m\n",
      "\u001b[33m\u001b[1m┌ \u001b[22m\u001b[39m\u001b[33m\u001b[1mWarning: \u001b[22m\u001b[39mSmoothness estimate run away -> hard clipping. Convergence might be not guaranteed.\n",
      "\u001b[33m\u001b[1m└ \u001b[22m\u001b[39m\u001b[90m@ FrankWolfe C:\\Users\\pusty\\.julia\\packages\\FrankWolfe\\MDe7s\\src\\linesearch.jl:367\u001b[39m\n"
     ]
    },
    {
     "data": {
      "text/plain": [
       "\"We got it.\""
      ]
     },
     "execution_count": 20,
     "metadata": {},
     "output_type": "execute_result"
    }
   ],
   "source": [
    "fit([[1.0, 2.0], \n",
    "[1.0, 2.0], \n",
    "[1.0, 2.0], \n",
    "[1.0, 2.0]])"
   ]
  },
  {
   "cell_type": "code",
   "execution_count": null,
   "id": "15f839b5",
   "metadata": {},
   "outputs": [],
   "source": []
  }
 ],
 "metadata": {
  "kernelspec": {
   "display_name": "Julia 1.9.2",
   "language": "julia",
   "name": "julia-1.9"
  },
  "language_info": {
   "file_extension": ".jl",
   "mimetype": "application/julia",
   "name": "julia",
   "version": "1.9.2"
  }
 },
 "nbformat": 4,
 "nbformat_minor": 5
}

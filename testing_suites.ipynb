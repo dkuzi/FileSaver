{
 "cells": [
  {
   "cell_type": "markdown",
   "id": "d09afbbf",
   "metadata": {},
   "source": [
    "# Testing Suites"
   ]
  },
  {
   "cell_type": "code",
   "execution_count": 2,
   "id": "9a35dd92",
   "metadata": {},
   "outputs": [],
   "source": [
    "using Test\n",
    "using LinearAlgebra\n",
    "using FrankWolfe\n",
    "using Suppressor\n",
    "include(\"auxiliary_functions.jl\")\n",
    "include(\"terms_and_polynomials.jl\")\n",
    "include(\"objective_functions.jl\")\n",
    "include(\"oracle_avi.jl\");\n",
    "include(\"auxiliary_functions_avi.jl\");"
   ]
  },
  {
   "cell_type": "markdown",
   "id": "a3601855",
   "metadata": {},
   "source": [
    "**Tests for auxiliary functions**"
   ]
  },
  {
   "cell_type": "code",
   "execution_count": 18,
   "id": "5451f6e3",
   "metadata": {},
   "outputs": [],
   "source": [
    "matrix = vecvec_to_mat([[1, 2, 3, 4, 3], [0, 1, 2, 3, 2], [1, 3, 1, 2, 1]])\n",
    "matrix_sorted = vecvec_to_mat([[1, 3, 3, 2, 4], [0, 2, 2, 1, 3], [1, 1, 1, 3, 2]])\n",
    "matrix_unique = vecvec_to_mat([[1, 3, 2, 4], [0, 2, 1, 3], [1, 1, 3, 2]]);"
   ]
  },
  {
   "cell_type": "code",
   "execution_count": 4,
   "id": "c635773e",
   "metadata": {},
   "outputs": [
    {
     "name": "stdout",
     "output_type": "stream",
     "text": [
      "\u001b[0m\u001b[1mTest Summary:                     | \u001b[22m\u001b[32m\u001b[1mPass  \u001b[22m\u001b[39m\u001b[36m\u001b[1mTotal  \u001b[22m\u001b[39m\u001b[0m\u001b[1mTime\u001b[22m\n",
      "Test suite for get_unique_columns | \u001b[32m   2  \u001b[39m\u001b[36m    2  \u001b[39m\u001b[0m3.1s\n"
     ]
    }
   ],
   "source": [
    "@testset \"Test suite for get_unique_columns\" begin\n",
    "    mat1_unique, mat2_unique, _ = get_unique_columns(matrix, matrix)\n",
    "    @test mat1_unique == matrix_unique\n",
    "    @test mat2_unique == matrix_unique\n",
    "end;"
   ]
  },
  {
   "cell_type": "code",
   "execution_count": 5,
   "id": "d555c31c",
   "metadata": {},
   "outputs": [
    {
     "name": "stdout",
     "output_type": "stream",
     "text": [
      "\u001b[0m\u001b[1mTest Summary:               | \u001b[22m\u001b[32m\u001b[1mPass  \u001b[22m\u001b[39m\u001b[36m\u001b[1mTotal  \u001b[22m\u001b[39m\u001b[0m\u001b[1mTime\u001b[22m\n",
      "Test suite for deg_lex_sort | \u001b[32m   2  \u001b[39m\u001b[36m    2  \u001b[39m\u001b[0m0.3s\n"
     ]
    }
   ],
   "source": [
    "@testset \"Test suite for deg_lex_sort\" begin\n",
    "    matrix_sorted_1, matrix_sorted_2, a = deg_lex_sort(matrix, 1. * matrix)\n",
    "    @test matrix_sorted_1 == matrix_sorted\n",
    "    @test matrix_sorted_2 == matrix_sorted\n",
    "end;"
   ]
  },
  {
   "cell_type": "code",
   "execution_count": 6,
   "id": "57a63c8f",
   "metadata": {},
   "outputs": [
    {
     "name": "stdout",
     "output_type": "stream",
     "text": [
      "\u001b[0m\u001b[1mTest Summary:                | \u001b[22m\u001b[32m\u001b[1mPass  \u001b[22m\u001b[39m\u001b[36m\u001b[1mTotal  \u001b[22m\u001b[39m\u001b[0m\u001b[1mTime\u001b[22m\n",
      "Test suite for vecvec_to_mat | \u001b[32m   2  \u001b[39m\u001b[36m    2  \u001b[39m\u001b[0m0.1s\n"
     ]
    }
   ],
   "source": [
    "@testset \"Test suite for vecvec_to_mat\" begin\n",
    "  vecvec1 = [[1, 2, 3], [4, 5, 6]]\n",
    "  vecvec2 = [[1, 2], [3, 4], [5, 6]]\n",
    "\n",
    "  row_1 = reshape([1, 2, 3], 1, 3)\n",
    "  row_2 = reshape([4, 5, 6], 1, 3)\n",
    "  \n",
    "  mat1 = vcat(row_1, row_2)\n",
    "  mat2 = reshape([1, 2, 3, 4, 5, 6], 2, 3)\n",
    "\n",
    "  @test vecvec_to_mat(vecvec1) == mat1\n",
    "  @test vecvec_to_mat(vecvec2, arr_is_col=1) == mat2\n",
    "end;"
   ]
  },
  {
   "cell_type": "code",
   "execution_count": 7,
   "id": "240ca860",
   "metadata": {},
   "outputs": [
    {
     "name": "stdout",
     "output_type": "stream",
     "text": [
      "\u001b[0m\u001b[1mTest Summary:                 | \u001b[22m\u001b[32m\u001b[1mPass  \u001b[22m\u001b[39m\u001b[36m\u001b[1mTotal  \u001b[22m\u001b[39m\u001b[0m\u001b[1mTime\u001b[22m\n",
      "Test suite for compute_degree | \u001b[32m   1  \u001b[39m\u001b[36m    1  \u001b[39m\u001b[0m0.0s\n"
     ]
    }
   ],
   "source": [
    "@testset \"Test suite for compute_degree\" begin\n",
    "  @test compute_degree(matrix) == reshape([2, 6, 6, 9, 6], 1, 5)\n",
    "end;"
   ]
  },
  {
   "cell_type": "markdown",
   "id": "b668af49",
   "metadata": {},
   "source": [
    "**Tests for oracle_avi**"
   ]
  },
  {
   "cell_type": "code",
   "execution_count": 19,
   "id": "4358594a",
   "metadata": {
    "scrolled": false
   },
   "outputs": [
    {
     "name": "stdout",
     "output_type": "stream",
     "text": [
      "\u001b[0m\u001b[1mTest Summary:      | \u001b[22m\u001b[32m\u001b[1mPass  \u001b[22m\u001b[39m\u001b[36m\u001b[1mTotal  \u001b[22m\u001b[39m\u001b[0m\u001b[1m Time\u001b[22m\n",
      "Test suite for fit | \u001b[32m   3  \u001b[39m\u001b[36m    3  \u001b[39m\u001b[0m35.4s\n"
     ]
    }
   ],
   "source": [
    "@suppress_err @testset \"Test suite for fit\" begin\n",
    "    for oracle in [\"CG\", \"PCG\", \"BPCG\"]\n",
    "        m, n = rand(15:25), rand(4:10)\n",
    "        X_train = rand(m, n)\n",
    "        X_train_transformed, sets = fit(X_train,oracle_type=oracle)\n",
    "        loss_list = Vector{Float64}([])\n",
    "        for col in 1:size(sets.G_evaluations, 2)\n",
    "            cur_col = sets.G_evaluations[:, col]\n",
    "            loss = 1 / size(cur_col, 1) * (norm(cur_col, 2)^2)\n",
    "            loss_list = append!(loss_list, loss)\n",
    "        end\n",
    "        @test all(loss_list .<= 0.1)\n",
    "    end\n",
    "end;"
   ]
  },
  {
   "cell_type": "code",
   "execution_count": 17,
   "id": "31aa98ed",
   "metadata": {},
   "outputs": [
    {
     "name": "stdout",
     "output_type": "stream",
     "text": [
      "\u001b[0m\u001b[1mTest Summary:                | \u001b[22m\u001b[32m\u001b[1mPass  \u001b[22m\u001b[39m\u001b[36m\u001b[1mTotal  \u001b[22m\u001b[39m\u001b[0m\u001b[1mTime\u001b[22m\n",
      "Test suite for l1_projection | \u001b[32m   3  \u001b[39m\u001b[36m    3  \u001b[39m\u001b[0m0.0s\n"
     ]
    }
   ],
   "source": [
    "@testset \"Test suite for l1_projection\" begin\n",
    "  vec1 = rand(1:10, 20)\n",
    "  radius_1 = 2.5\n",
    "  radius_2 = 3.0\n",
    "  @test norm(l1_projection(vec1), 1) ≈ 1\n",
    "  @test norm(l1_projection(vec1, radius=radius_1), 1) ≈ radius_1\n",
    "  @test norm(l1_projection(vec1, radius=radius_2), 1) ≈ radius_2\n",
    "end;"
   ]
  },
  {
   "cell_type": "markdown",
   "id": "3691a164",
   "metadata": {},
   "source": [
    "**Tests for terms_and_polynomials**"
   ]
  },
  {
   "cell_type": "code",
   "execution_count": 21,
   "id": "dd48e08d",
   "metadata": {},
   "outputs": [
    {
     "name": "stdout",
     "output_type": "stream",
     "text": [
      "\u001b[0m\u001b[1mTest Summary:        | \u001b[22m\u001b[32m\u001b[1mPass  \u001b[22m\u001b[39m\u001b[36m\u001b[1mTotal  \u001b[22m\u001b[39m\u001b[0m\u001b[1mTime\u001b[22m\n",
      "Test suite for purge | \u001b[32m   4  \u001b[39m\u001b[36m    4  \u001b[39m\u001b[0m0.0s\n"
     ]
    }
   ],
   "source": [
    "@testset \"Test suite for purge\" begin\n",
    "    matrix_2 = vecvec_to_mat([[1, 2, 3], \n",
    "                              [0, 0, 1],\n",
    "                              [1, 1, 1]])\n",
    "    \n",
    "    matrix_1 = vecvec_to_mat([[1, 1],\n",
    "                              [0, 1],\n",
    "                              [0, 1]])\n",
    "    \n",
    "    matrix_2_purged, matrix_2_purged_2, _ = purge(matrix_2, 1. * matrix_2, matrix_1)\n",
    "    \n",
    "    @test size(matrix_2_purged, 2) == 0\n",
    "    @test size(matrix_2_purged_2, 2) == 0\n",
    "    \n",
    "    matrix_2 = vecvec_to_mat([[1, 2, 3],\n",
    "                             [0, 0, 1],\n",
    "                             [1, 1, 1]])\n",
    "    \n",
    "    matrix_1 = vecvec_to_mat([[1, 1],\n",
    "                             [0, 2],\n",
    "                             [2, 1]])\n",
    "    \n",
    "    matrix_2_purged, matrix_2_purged_2, _ = purge(matrix_2, 1. * matrix_2, matrix_1)\n",
    "    \n",
    "    @test matrix_2_purged == matrix_2_purged_2\n",
    "    @test matrix_2_purged == vecvec_to_mat([[1, 2, 3],\n",
    "                                            [0, 0, 1],\n",
    "                                            [1, 1, 1]])\n",
    "    \n",
    "end;"
   ]
  },
  {
   "cell_type": "code",
   "execution_count": 22,
   "id": "d0ed7bf4",
   "metadata": {},
   "outputs": [
    {
     "name": "stdout",
     "output_type": "stream",
     "text": [
      "\u001b[0m\u001b[1mTest Summary:                             | \u001b[22m\u001b[32m\u001b[1mPass  \u001b[22m\u001b[39m\u001b[36m\u001b[1mTotal  \u001b[22m\u001b[39m\u001b[0m\u001b[1mTime\u001b[22m\n",
      "Test suite for update_coefficient_vectors | \u001b[32m   1  \u001b[39m\u001b[36m    1  \u001b[39m\u001b[0m2.0s\n"
     ]
    }
   ],
   "source": [
    "@testset \"Test suite for update_coefficient_vectors\" begin\n",
    "    G_coefficient_vectors = reshape([1, 2, 0], 3, 1)\n",
    "    \n",
    "    vec1 = reshape([1, 2], 2, 1)\n",
    "    \n",
    "    G_coefficient_vectors = update_coefficient_vectors(G_coefficient_vectors, vec1)\n",
    "    G_coefficient_vectors = vcat(G_coefficient_vectors, zeros(1, size(G_coefficient_vectors, 2)))\n",
    "    G_coefficient_vectors = update_coefficient_vectors(G_coefficient_vectors, vec1)\n",
    "    G_coefficient_vectors = vcat(G_coefficient_vectors, zeros(1, size(G_coefficient_vectors, 2)))\n",
    "    G_coefficient_vectors = vcat(G_coefficient_vectors, zeros(1, size(G_coefficient_vectors, 2)))\n",
    "    \n",
    "    vec1 = reshape([1, 2, 3], 3, 1)\n",
    "    \n",
    "    G_coefficient_vectors = update_coefficient_vectors(G_coefficient_vectors, vec1)\n",
    "    \n",
    "    @test G_coefficient_vectors == vecvec_to_mat([[1., 1., 1., 1.],\n",
    "                                                  [2., 0., 0., 0.],\n",
    "                                                  [0., 2., 0., 0.],\n",
    "                                                  [0., 0., 2., 0.],\n",
    "                                                  [0., 0., 0., 2.],\n",
    "                                                  [0., 0., 0., 3.]])\n",
    "end;"
   ]
  },
  {
   "cell_type": "markdown",
   "id": "5c2ba4f8",
   "metadata": {},
   "source": [
    "**Tests for L2Loss**"
   ]
  },
  {
   "cell_type": "code",
   "execution_count": 3,
   "id": "ae1a281c",
   "metadata": {},
   "outputs": [
    {
     "name": "stdout",
     "output_type": "stream",
     "text": [
      "\u001b[0m\u001b[1mTest Summary:                                | \u001b[22m\u001b[32m\u001b[1mPass  \u001b[22m\u001b[39m\u001b[36m\u001b[1mTotal  \u001b[22m\u001b[39m\u001b[0m\u001b[1mTime\u001b[22m\n",
      "Test suite for 'evaluate_function' in L2Loss | \u001b[32m  50  \u001b[39m\u001b[36m   50  \u001b[39m\u001b[0m0.6s\n"
     ]
    }
   ],
   "source": [
    "@testset \"Test suite for 'evaluate_function' in L2Loss\" begin\n",
    "    for m in 1:5\n",
    "        for n in 1:10\n",
    "            A = rand(m, n)\n",
    "            b = rand(m)\n",
    "            x = rand(n)\n",
    "            lambda = rand() * n\n",
    "            _, evaluate_function, _ = L2Loss(A, b, lambda, A' * A, A' * b, b' * b)\n",
    "            \n",
    "            @test 1/m * norm(A * x + b, 2)^2 + lambda * norm(x, 2)^2 / 2 ≈ evaluate_function(x)\n",
    "        end\n",
    "    end\n",
    "end;"
   ]
  },
  {
   "cell_type": "code",
   "execution_count": 4,
   "id": "223a807d",
   "metadata": {},
   "outputs": [
    {
     "name": "stdout",
     "output_type": "stream",
     "text": [
      "\u001b[0m\u001b[1mTest Summary:                                 | \u001b[22m\u001b[32m\u001b[1mPass  \u001b[22m\u001b[39m\u001b[36m\u001b[1mTotal  \u001b[22m\u001b[39m\u001b[0m\u001b[1mTime\u001b[22m\n",
      "Test suite for 'evaluate_gradient!' in L2Loss | \u001b[32m  50  \u001b[39m\u001b[36m   50  \u001b[39m\u001b[0m0.4s\n"
     ]
    }
   ],
   "source": [
    "@testset \"Test suite for 'evaluate_gradient!' in L2Loss\" begin\n",
    "    for m in 1:5\n",
    "        for n in 1:10\n",
    "            A = rand(m, n)\n",
    "            b = rand(m)\n",
    "            x = rand(n)\n",
    "            lambda = rand() * n\n",
    "            _, _, evaluate_gradient! = L2Loss(A, b, lambda, A' * A, A' * b, b' * b)\n",
    "            \n",
    "            gradient = 2/m * (A' * A * x + A' * b + m/2 * lambda * x)\n",
    "            approx_vec = (gradient .≈ evaluate_gradient!(zeros(n), x))\n",
    "            @test all(approx_vec)\n",
    "        end\n",
    "    end\n",
    "end;"
   ]
  },
  {
   "cell_type": "code",
   "execution_count": null,
   "id": "a1fc4fb2",
   "metadata": {},
   "outputs": [],
   "source": []
  }
 ],
 "metadata": {
  "kernelspec": {
   "display_name": "Julia 1.9.2",
   "language": "julia",
   "name": "julia-1.9"
  },
  "language_info": {
   "file_extension": ".jl",
   "mimetype": "application/julia",
   "name": "julia",
   "version": "1.9.2"
  }
 },
 "nbformat": 4,
 "nbformat_minor": 5
}
